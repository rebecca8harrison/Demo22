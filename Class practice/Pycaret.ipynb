{
 "cells": [
  {
   "cell_type": "code",
   "execution_count": 1,
   "metadata": {},
   "outputs": [
    {
     "data": {
      "text/html": [
       "<div>\n",
       "<style scoped>\n",
       "    .dataframe tbody tr th:only-of-type {\n",
       "        vertical-align: middle;\n",
       "    }\n",
       "\n",
       "    .dataframe tbody tr th {\n",
       "        vertical-align: top;\n",
       "    }\n",
       "\n",
       "    .dataframe thead th {\n",
       "        text-align: right;\n",
       "    }\n",
       "</style>\n",
       "<table border=\"1\" class=\"dataframe\">\n",
       "  <thead>\n",
       "    <tr style=\"text-align: right;\">\n",
       "      <th></th>\n",
       "      <th>LIMIT_BAL</th>\n",
       "      <th>SEX</th>\n",
       "      <th>EDUCATION</th>\n",
       "      <th>MARRIAGE</th>\n",
       "      <th>AGE</th>\n",
       "      <th>PAY_1</th>\n",
       "      <th>PAY_2</th>\n",
       "      <th>PAY_3</th>\n",
       "      <th>PAY_4</th>\n",
       "      <th>PAY_5</th>\n",
       "      <th>...</th>\n",
       "      <th>BILL_AMT4</th>\n",
       "      <th>BILL_AMT5</th>\n",
       "      <th>BILL_AMT6</th>\n",
       "      <th>PAY_AMT1</th>\n",
       "      <th>PAY_AMT2</th>\n",
       "      <th>PAY_AMT3</th>\n",
       "      <th>PAY_AMT4</th>\n",
       "      <th>PAY_AMT5</th>\n",
       "      <th>PAY_AMT6</th>\n",
       "      <th>default</th>\n",
       "    </tr>\n",
       "  </thead>\n",
       "  <tbody>\n",
       "    <tr>\n",
       "      <th>0</th>\n",
       "      <td>20000</td>\n",
       "      <td>2</td>\n",
       "      <td>2</td>\n",
       "      <td>1</td>\n",
       "      <td>24</td>\n",
       "      <td>2</td>\n",
       "      <td>2</td>\n",
       "      <td>-1</td>\n",
       "      <td>-1</td>\n",
       "      <td>-2</td>\n",
       "      <td>...</td>\n",
       "      <td>0.0</td>\n",
       "      <td>0.0</td>\n",
       "      <td>0.0</td>\n",
       "      <td>0.0</td>\n",
       "      <td>689.0</td>\n",
       "      <td>0.0</td>\n",
       "      <td>0.0</td>\n",
       "      <td>0.0</td>\n",
       "      <td>0.0</td>\n",
       "      <td>1</td>\n",
       "    </tr>\n",
       "    <tr>\n",
       "      <th>1</th>\n",
       "      <td>90000</td>\n",
       "      <td>2</td>\n",
       "      <td>2</td>\n",
       "      <td>2</td>\n",
       "      <td>34</td>\n",
       "      <td>0</td>\n",
       "      <td>0</td>\n",
       "      <td>0</td>\n",
       "      <td>0</td>\n",
       "      <td>0</td>\n",
       "      <td>...</td>\n",
       "      <td>14331.0</td>\n",
       "      <td>14948.0</td>\n",
       "      <td>15549.0</td>\n",
       "      <td>1518.0</td>\n",
       "      <td>1500.0</td>\n",
       "      <td>1000.0</td>\n",
       "      <td>1000.0</td>\n",
       "      <td>1000.0</td>\n",
       "      <td>5000.0</td>\n",
       "      <td>0</td>\n",
       "    </tr>\n",
       "    <tr>\n",
       "      <th>2</th>\n",
       "      <td>50000</td>\n",
       "      <td>2</td>\n",
       "      <td>2</td>\n",
       "      <td>1</td>\n",
       "      <td>37</td>\n",
       "      <td>0</td>\n",
       "      <td>0</td>\n",
       "      <td>0</td>\n",
       "      <td>0</td>\n",
       "      <td>0</td>\n",
       "      <td>...</td>\n",
       "      <td>28314.0</td>\n",
       "      <td>28959.0</td>\n",
       "      <td>29547.0</td>\n",
       "      <td>2000.0</td>\n",
       "      <td>2019.0</td>\n",
       "      <td>1200.0</td>\n",
       "      <td>1100.0</td>\n",
       "      <td>1069.0</td>\n",
       "      <td>1000.0</td>\n",
       "      <td>0</td>\n",
       "    </tr>\n",
       "    <tr>\n",
       "      <th>3</th>\n",
       "      <td>50000</td>\n",
       "      <td>1</td>\n",
       "      <td>2</td>\n",
       "      <td>1</td>\n",
       "      <td>57</td>\n",
       "      <td>-1</td>\n",
       "      <td>0</td>\n",
       "      <td>-1</td>\n",
       "      <td>0</td>\n",
       "      <td>0</td>\n",
       "      <td>...</td>\n",
       "      <td>20940.0</td>\n",
       "      <td>19146.0</td>\n",
       "      <td>19131.0</td>\n",
       "      <td>2000.0</td>\n",
       "      <td>36681.0</td>\n",
       "      <td>10000.0</td>\n",
       "      <td>9000.0</td>\n",
       "      <td>689.0</td>\n",
       "      <td>679.0</td>\n",
       "      <td>0</td>\n",
       "    </tr>\n",
       "    <tr>\n",
       "      <th>4</th>\n",
       "      <td>50000</td>\n",
       "      <td>1</td>\n",
       "      <td>1</td>\n",
       "      <td>2</td>\n",
       "      <td>37</td>\n",
       "      <td>0</td>\n",
       "      <td>0</td>\n",
       "      <td>0</td>\n",
       "      <td>0</td>\n",
       "      <td>0</td>\n",
       "      <td>...</td>\n",
       "      <td>19394.0</td>\n",
       "      <td>19619.0</td>\n",
       "      <td>20024.0</td>\n",
       "      <td>2500.0</td>\n",
       "      <td>1815.0</td>\n",
       "      <td>657.0</td>\n",
       "      <td>1000.0</td>\n",
       "      <td>1000.0</td>\n",
       "      <td>800.0</td>\n",
       "      <td>0</td>\n",
       "    </tr>\n",
       "  </tbody>\n",
       "</table>\n",
       "<p>5 rows × 24 columns</p>\n",
       "</div>"
      ],
      "text/plain": [
       "   LIMIT_BAL  SEX  EDUCATION  MARRIAGE  AGE  PAY_1  PAY_2  PAY_3  PAY_4  \\\n",
       "0      20000    2          2         1   24      2      2     -1     -1   \n",
       "1      90000    2          2         2   34      0      0      0      0   \n",
       "2      50000    2          2         1   37      0      0      0      0   \n",
       "3      50000    1          2         1   57     -1      0     -1      0   \n",
       "4      50000    1          1         2   37      0      0      0      0   \n",
       "\n",
       "   PAY_5  ...  BILL_AMT4  BILL_AMT5  BILL_AMT6  PAY_AMT1  PAY_AMT2  PAY_AMT3  \\\n",
       "0     -2  ...        0.0        0.0        0.0       0.0     689.0       0.0   \n",
       "1      0  ...    14331.0    14948.0    15549.0    1518.0    1500.0    1000.0   \n",
       "2      0  ...    28314.0    28959.0    29547.0    2000.0    2019.0    1200.0   \n",
       "3      0  ...    20940.0    19146.0    19131.0    2000.0   36681.0   10000.0   \n",
       "4      0  ...    19394.0    19619.0    20024.0    2500.0    1815.0     657.0   \n",
       "\n",
       "   PAY_AMT4  PAY_AMT5  PAY_AMT6  default  \n",
       "0       0.0       0.0       0.0        1  \n",
       "1    1000.0    1000.0    5000.0        0  \n",
       "2    1100.0    1069.0    1000.0        0  \n",
       "3    9000.0     689.0     679.0        0  \n",
       "4    1000.0    1000.0     800.0        0  \n",
       "\n",
       "[5 rows x 24 columns]"
      ]
     },
     "metadata": {},
     "output_type": "display_data"
    }
   ],
   "source": [
    "from pycaret.datasets import get_data\n",
    "dataset = get_data('credit')"
   ]
  },
  {
   "cell_type": "code",
   "execution_count": 2,
   "metadata": {},
   "outputs": [
    {
     "data": {
      "text/plain": [
       "(24000, 24)"
      ]
     },
     "execution_count": 2,
     "metadata": {},
     "output_type": "execute_result"
    }
   ],
   "source": [
    "#check the shape of data\n",
    "dataset.shape"
   ]
  },
  {
   "cell_type": "code",
   "execution_count": 3,
   "metadata": {},
   "outputs": [
    {
     "name": "stdout",
     "output_type": "stream",
     "text": [
      "Data for Modeling: (22800, 24)\n",
      "Unseen Data For Predictions: (1200, 24)\n"
     ]
    }
   ],
   "source": [
    "data = dataset.sample(frac=0.95, random_state=786).reset_index(drop=True)\n",
    "data_unseen = dataset.drop(data.index).reset_index(drop=True)\n",
    "\n",
    "print('Data for Modeling: ' + str(data.shape))\n",
    "print('Unseen Data For Predictions: ' + str(data_unseen.shape))"
   ]
  },
  {
   "cell_type": "code",
   "execution_count": 4,
   "metadata": {},
   "outputs": [],
   "source": [
    "from pycaret.classification import *"
   ]
  },
  {
   "cell_type": "code",
   "execution_count": 5,
   "metadata": {},
   "outputs": [
    {
     "ename": "OSError",
     "evalue": "dlopen(/Library/Frameworks/Python.framework/Versions/3.10/lib/python3.10/site-packages/lightgbm/lib_lightgbm.so, 0x0006): Library not loaded: '/usr/local/opt/libomp/lib/libomp.dylib'\n  Referenced from: '/Library/Frameworks/Python.framework/Versions/3.10/lib/python3.10/site-packages/lightgbm/lib_lightgbm.so'\n  Reason: tried: '/usr/local/opt/libomp/lib/libomp.dylib' (no such file), '/usr/lib/libomp.dylib' (no such file)",
     "output_type": "error",
     "traceback": [
      "\u001b[0;31m---------------------------------------------------------------------------\u001b[0m",
      "\u001b[0;31mOSError\u001b[0m                                   Traceback (most recent call last)",
      "Cell \u001b[0;32mIn [5], line 1\u001b[0m\n\u001b[0;32m----> 1\u001b[0m exp_clf101 \u001b[39m=\u001b[39m setup(data \u001b[39m=\u001b[39m data, target \u001b[39m=\u001b[39m \u001b[39m'\u001b[39m\u001b[39mdefault\u001b[39m\u001b[39m'\u001b[39m, session_id\u001b[39m=\u001b[39m\u001b[39m123\u001b[39m)\n",
      "File \u001b[0;32m/Library/Frameworks/Python.framework/Versions/3.10/lib/python3.10/site-packages/pycaret/classification/functional.py:596\u001b[0m, in \u001b[0;36msetup\u001b[0;34m(data, data_func, target, index, train_size, test_data, ordinal_features, numeric_features, categorical_features, date_features, text_features, ignore_features, keep_features, preprocess, create_date_columns, imputation_type, numeric_imputation, categorical_imputation, iterative_imputation_iters, numeric_iterative_imputer, categorical_iterative_imputer, text_features_method, max_encoding_ohe, encoding_method, rare_to_value, rare_value, polynomial_features, polynomial_degree, low_variance_threshold, group_features, group_names, remove_multicollinearity, multicollinearity_threshold, bin_numeric_features, remove_outliers, outliers_method, outliers_threshold, fix_imbalance, fix_imbalance_method, transformation, transformation_method, normalize, normalize_method, pca, pca_method, pca_components, feature_selection, feature_selection_method, feature_selection_estimator, n_features_to_select, custom_pipeline, custom_pipeline_position, data_split_shuffle, data_split_stratify, fold_strategy, fold, fold_shuffle, fold_groups, n_jobs, use_gpu, html, session_id, system_log, log_experiment, experiment_name, experiment_custom_tags, log_plots, log_profile, log_data, verbose, memory, profile, profile_kwargs)\u001b[0m\n\u001b[1;32m    594\u001b[0m exp \u001b[39m=\u001b[39m _EXPERIMENT_CLASS()\n\u001b[1;32m    595\u001b[0m set_current_experiment(exp)\n\u001b[0;32m--> 596\u001b[0m \u001b[39mreturn\u001b[39;00m exp\u001b[39m.\u001b[39;49msetup(\n\u001b[1;32m    597\u001b[0m     data\u001b[39m=\u001b[39;49mdata,\n\u001b[1;32m    598\u001b[0m     data_func\u001b[39m=\u001b[39;49mdata_func,\n\u001b[1;32m    599\u001b[0m     target\u001b[39m=\u001b[39;49mtarget,\n\u001b[1;32m    600\u001b[0m     index\u001b[39m=\u001b[39;49mindex,\n\u001b[1;32m    601\u001b[0m     train_size\u001b[39m=\u001b[39;49mtrain_size,\n\u001b[1;32m    602\u001b[0m     test_data\u001b[39m=\u001b[39;49mtest_data,\n\u001b[1;32m    603\u001b[0m     ordinal_features\u001b[39m=\u001b[39;49mordinal_features,\n\u001b[1;32m    604\u001b[0m     numeric_features\u001b[39m=\u001b[39;49mnumeric_features,\n\u001b[1;32m    605\u001b[0m     categorical_features\u001b[39m=\u001b[39;49mcategorical_features,\n\u001b[1;32m    606\u001b[0m     date_features\u001b[39m=\u001b[39;49mdate_features,\n\u001b[1;32m    607\u001b[0m     text_features\u001b[39m=\u001b[39;49mtext_features,\n\u001b[1;32m    608\u001b[0m     ignore_features\u001b[39m=\u001b[39;49mignore_features,\n\u001b[1;32m    609\u001b[0m     keep_features\u001b[39m=\u001b[39;49mkeep_features,\n\u001b[1;32m    610\u001b[0m     preprocess\u001b[39m=\u001b[39;49mpreprocess,\n\u001b[1;32m    611\u001b[0m     create_date_columns\u001b[39m=\u001b[39;49mcreate_date_columns,\n\u001b[1;32m    612\u001b[0m     imputation_type\u001b[39m=\u001b[39;49mimputation_type,\n\u001b[1;32m    613\u001b[0m     numeric_imputation\u001b[39m=\u001b[39;49mnumeric_imputation,\n\u001b[1;32m    614\u001b[0m     categorical_imputation\u001b[39m=\u001b[39;49mcategorical_imputation,\n\u001b[1;32m    615\u001b[0m     iterative_imputation_iters\u001b[39m=\u001b[39;49miterative_imputation_iters,\n\u001b[1;32m    616\u001b[0m     numeric_iterative_imputer\u001b[39m=\u001b[39;49mnumeric_iterative_imputer,\n\u001b[1;32m    617\u001b[0m     categorical_iterative_imputer\u001b[39m=\u001b[39;49mcategorical_iterative_imputer,\n\u001b[1;32m    618\u001b[0m     text_features_method\u001b[39m=\u001b[39;49mtext_features_method,\n\u001b[1;32m    619\u001b[0m     max_encoding_ohe\u001b[39m=\u001b[39;49mmax_encoding_ohe,\n\u001b[1;32m    620\u001b[0m     encoding_method\u001b[39m=\u001b[39;49mencoding_method,\n\u001b[1;32m    621\u001b[0m     rare_to_value\u001b[39m=\u001b[39;49mrare_to_value,\n\u001b[1;32m    622\u001b[0m     rare_value\u001b[39m=\u001b[39;49mrare_value,\n\u001b[1;32m    623\u001b[0m     polynomial_features\u001b[39m=\u001b[39;49mpolynomial_features,\n\u001b[1;32m    624\u001b[0m     polynomial_degree\u001b[39m=\u001b[39;49mpolynomial_degree,\n\u001b[1;32m    625\u001b[0m     low_variance_threshold\u001b[39m=\u001b[39;49mlow_variance_threshold,\n\u001b[1;32m    626\u001b[0m     group_features\u001b[39m=\u001b[39;49mgroup_features,\n\u001b[1;32m    627\u001b[0m     group_names\u001b[39m=\u001b[39;49mgroup_names,\n\u001b[1;32m    628\u001b[0m     remove_multicollinearity\u001b[39m=\u001b[39;49mremove_multicollinearity,\n\u001b[1;32m    629\u001b[0m     multicollinearity_threshold\u001b[39m=\u001b[39;49mmulticollinearity_threshold,\n\u001b[1;32m    630\u001b[0m     bin_numeric_features\u001b[39m=\u001b[39;49mbin_numeric_features,\n\u001b[1;32m    631\u001b[0m     remove_outliers\u001b[39m=\u001b[39;49mremove_outliers,\n\u001b[1;32m    632\u001b[0m     outliers_method\u001b[39m=\u001b[39;49moutliers_method,\n\u001b[1;32m    633\u001b[0m     outliers_threshold\u001b[39m=\u001b[39;49moutliers_threshold,\n\u001b[1;32m    634\u001b[0m     fix_imbalance\u001b[39m=\u001b[39;49mfix_imbalance,\n\u001b[1;32m    635\u001b[0m     fix_imbalance_method\u001b[39m=\u001b[39;49mfix_imbalance_method,\n\u001b[1;32m    636\u001b[0m     transformation\u001b[39m=\u001b[39;49mtransformation,\n\u001b[1;32m    637\u001b[0m     transformation_method\u001b[39m=\u001b[39;49mtransformation_method,\n\u001b[1;32m    638\u001b[0m     normalize\u001b[39m=\u001b[39;49mnormalize,\n\u001b[1;32m    639\u001b[0m     normalize_method\u001b[39m=\u001b[39;49mnormalize_method,\n\u001b[1;32m    640\u001b[0m     pca\u001b[39m=\u001b[39;49mpca,\n\u001b[1;32m    641\u001b[0m     pca_method\u001b[39m=\u001b[39;49mpca_method,\n\u001b[1;32m    642\u001b[0m     pca_components\u001b[39m=\u001b[39;49mpca_components,\n\u001b[1;32m    643\u001b[0m     feature_selection\u001b[39m=\u001b[39;49mfeature_selection,\n\u001b[1;32m    644\u001b[0m     feature_selection_method\u001b[39m=\u001b[39;49mfeature_selection_method,\n\u001b[1;32m    645\u001b[0m     feature_selection_estimator\u001b[39m=\u001b[39;49mfeature_selection_estimator,\n\u001b[1;32m    646\u001b[0m     n_features_to_select\u001b[39m=\u001b[39;49mn_features_to_select,\n\u001b[1;32m    647\u001b[0m     custom_pipeline\u001b[39m=\u001b[39;49mcustom_pipeline,\n\u001b[1;32m    648\u001b[0m     custom_pipeline_position\u001b[39m=\u001b[39;49mcustom_pipeline_position,\n\u001b[1;32m    649\u001b[0m     data_split_shuffle\u001b[39m=\u001b[39;49mdata_split_shuffle,\n\u001b[1;32m    650\u001b[0m     data_split_stratify\u001b[39m=\u001b[39;49mdata_split_stratify,\n\u001b[1;32m    651\u001b[0m     fold_strategy\u001b[39m=\u001b[39;49mfold_strategy,\n\u001b[1;32m    652\u001b[0m     fold\u001b[39m=\u001b[39;49mfold,\n\u001b[1;32m    653\u001b[0m     fold_shuffle\u001b[39m=\u001b[39;49mfold_shuffle,\n\u001b[1;32m    654\u001b[0m     fold_groups\u001b[39m=\u001b[39;49mfold_groups,\n\u001b[1;32m    655\u001b[0m     n_jobs\u001b[39m=\u001b[39;49mn_jobs,\n\u001b[1;32m    656\u001b[0m     use_gpu\u001b[39m=\u001b[39;49muse_gpu,\n\u001b[1;32m    657\u001b[0m     html\u001b[39m=\u001b[39;49mhtml,\n\u001b[1;32m    658\u001b[0m     session_id\u001b[39m=\u001b[39;49msession_id,\n\u001b[1;32m    659\u001b[0m     system_log\u001b[39m=\u001b[39;49msystem_log,\n\u001b[1;32m    660\u001b[0m     log_experiment\u001b[39m=\u001b[39;49mlog_experiment,\n\u001b[1;32m    661\u001b[0m     experiment_name\u001b[39m=\u001b[39;49mexperiment_name,\n\u001b[1;32m    662\u001b[0m     experiment_custom_tags\u001b[39m=\u001b[39;49mexperiment_custom_tags,\n\u001b[1;32m    663\u001b[0m     log_plots\u001b[39m=\u001b[39;49mlog_plots,\n\u001b[1;32m    664\u001b[0m     log_profile\u001b[39m=\u001b[39;49mlog_profile,\n\u001b[1;32m    665\u001b[0m     log_data\u001b[39m=\u001b[39;49mlog_data,\n\u001b[1;32m    666\u001b[0m     verbose\u001b[39m=\u001b[39;49mverbose,\n\u001b[1;32m    667\u001b[0m     memory\u001b[39m=\u001b[39;49mmemory,\n\u001b[1;32m    668\u001b[0m     profile\u001b[39m=\u001b[39;49mprofile,\n\u001b[1;32m    669\u001b[0m     profile_kwargs\u001b[39m=\u001b[39;49mprofile_kwargs,\n\u001b[1;32m    670\u001b[0m )\n",
      "File \u001b[0;32m/Library/Frameworks/Python.framework/Versions/3.10/lib/python3.10/site-packages/pycaret/classification/oop.py:776\u001b[0m, in \u001b[0;36mClassificationExperiment.setup\u001b[0;34m(self, data, data_func, target, index, train_size, test_data, ordinal_features, numeric_features, categorical_features, date_features, text_features, ignore_features, keep_features, preprocess, create_date_columns, imputation_type, numeric_imputation, categorical_imputation, iterative_imputation_iters, numeric_iterative_imputer, categorical_iterative_imputer, text_features_method, max_encoding_ohe, encoding_method, rare_to_value, rare_value, polynomial_features, polynomial_degree, low_variance_threshold, group_features, group_names, remove_multicollinearity, multicollinearity_threshold, bin_numeric_features, remove_outliers, outliers_method, outliers_threshold, fix_imbalance, fix_imbalance_method, transformation, transformation_method, normalize, normalize_method, pca, pca_method, pca_components, feature_selection, feature_selection_method, feature_selection_estimator, n_features_to_select, custom_pipeline, custom_pipeline_position, data_split_shuffle, data_split_stratify, fold_strategy, fold, fold_shuffle, fold_groups, n_jobs, use_gpu, html, session_id, system_log, log_experiment, experiment_name, experiment_custom_tags, log_plots, log_profile, log_data, engine, verbose, memory, profile, profile_kwargs)\u001b[0m\n\u001b[1;32m    759\u001b[0m \u001b[39mself\u001b[39m\u001b[39m.\u001b[39m_prepare_column_types(\n\u001b[1;32m    760\u001b[0m     ordinal_features\u001b[39m=\u001b[39mordinal_features,\n\u001b[1;32m    761\u001b[0m     numeric_features\u001b[39m=\u001b[39mnumeric_features,\n\u001b[0;32m   (...)\u001b[0m\n\u001b[1;32m    766\u001b[0m     keep_features\u001b[39m=\u001b[39mkeep_features,\n\u001b[1;32m    767\u001b[0m )\n\u001b[1;32m    769\u001b[0m \u001b[39mself\u001b[39m\u001b[39m.\u001b[39m_prepare_folds(\n\u001b[1;32m    770\u001b[0m     fold_strategy\u001b[39m=\u001b[39mfold_strategy,\n\u001b[1;32m    771\u001b[0m     fold\u001b[39m=\u001b[39mfold,\n\u001b[1;32m    772\u001b[0m     fold_shuffle\u001b[39m=\u001b[39mfold_shuffle,\n\u001b[1;32m    773\u001b[0m     fold_groups\u001b[39m=\u001b[39mfold_groups,\n\u001b[1;32m    774\u001b[0m )\n\u001b[0;32m--> 776\u001b[0m \u001b[39mself\u001b[39;49m\u001b[39m.\u001b[39;49m_set_exp_model_engines(\n\u001b[1;32m    777\u001b[0m     container_default_engines\u001b[39m=\u001b[39;49mget_container_default_engines(),\n\u001b[1;32m    778\u001b[0m     engine\u001b[39m=\u001b[39;49mengine,\n\u001b[1;32m    779\u001b[0m )\n\u001b[1;32m    781\u001b[0m \u001b[39m# Preprocessing ============================================ >>\u001b[39;00m\n\u001b[1;32m    782\u001b[0m \n\u001b[1;32m    783\u001b[0m \u001b[39m# Initialize empty pipeline\u001b[39;00m\n\u001b[1;32m    784\u001b[0m \u001b[39mself\u001b[39m\u001b[39m.\u001b[39mpipeline \u001b[39m=\u001b[39m InternalPipeline(\n\u001b[1;32m    785\u001b[0m     steps\u001b[39m=\u001b[39m[(\u001b[39m\"\u001b[39m\u001b[39mplaceholder\u001b[39m\u001b[39m\"\u001b[39m, \u001b[39mNone\u001b[39;00m)],\n\u001b[1;32m    786\u001b[0m     memory\u001b[39m=\u001b[39m\u001b[39mself\u001b[39m\u001b[39m.\u001b[39mmemory,\n\u001b[1;32m    787\u001b[0m )\n",
      "File \u001b[0;32m/Library/Frameworks/Python.framework/Versions/3.10/lib/python3.10/site-packages/pycaret/internal/pycaret_experiment/tabular_experiment.py:2929\u001b[0m, in \u001b[0;36m_TabularExperiment._set_exp_model_engines\u001b[0;34m(self, container_default_engines, engine)\u001b[0m\n\u001b[1;32m   2926\u001b[0m \u001b[39mfor\u001b[39;00m key \u001b[39min\u001b[39;00m container_default_engines:\n\u001b[1;32m   2927\u001b[0m     \u001b[39m# If provided by user, then use that, else get from the defaults\u001b[39;00m\n\u001b[1;32m   2928\u001b[0m     eng \u001b[39m=\u001b[39m engine\u001b[39m.\u001b[39mget(key, container_default_engines\u001b[39m.\u001b[39mget(key))\n\u001b[0;32m-> 2929\u001b[0m     \u001b[39mself\u001b[39;49m\u001b[39m.\u001b[39;49m_set_engine(estimator\u001b[39m=\u001b[39;49mkey, engine\u001b[39m=\u001b[39;49meng, severity\u001b[39m=\u001b[39;49m\u001b[39m\"\u001b[39;49m\u001b[39merror\u001b[39;49m\u001b[39m\"\u001b[39;49m)\n\u001b[1;32m   2931\u001b[0m \u001b[39mreturn\u001b[39;00m \u001b[39mself\u001b[39m\n",
      "File \u001b[0;32m/Library/Frameworks/Python.framework/Versions/3.10/lib/python3.10/site-packages/pycaret/internal/pycaret_experiment/tabular_experiment.py:2895\u001b[0m, in \u001b[0;36m_TabularExperiment._set_engine\u001b[0;34m(self, estimator, engine, severity)\u001b[0m\n\u001b[1;32m   2890\u001b[0m     \u001b[39mself\u001b[39m\u001b[39m.\u001b[39mlogger\u001b[39m.\u001b[39minfo(\n\u001b[1;32m   2891\u001b[0m         \u001b[39mf\u001b[39m\u001b[39m\"\u001b[39m\u001b[39mEngine successfully changes for model \u001b[39m\u001b[39m'\u001b[39m\u001b[39m{\u001b[39;00mestimator\u001b[39m}\u001b[39;00m\u001b[39m'\u001b[39m\u001b[39m to \u001b[39m\u001b[39m'\u001b[39m\u001b[39m{\u001b[39;00mengine\u001b[39m}\u001b[39;00m\u001b[39m'\u001b[39m\u001b[39m.\u001b[39m\u001b[39m\"\u001b[39m\n\u001b[1;32m   2892\u001b[0m     )\n\u001b[1;32m   2894\u001b[0m \u001b[39m# Need to do this, else internal class variables are not reset with new engine.\u001b[39;00m\n\u001b[0;32m-> 2895\u001b[0m \u001b[39mself\u001b[39;49m\u001b[39m.\u001b[39;49m_set_all_models()\n",
      "File \u001b[0;32m/Library/Frameworks/Python.framework/Versions/3.10/lib/python3.10/site-packages/pycaret/internal/pycaret_experiment/tabular_experiment.py:2785\u001b[0m, in \u001b[0;36m_TabularExperiment._set_all_models\u001b[0;34m(self)\u001b[0m\n\u001b[1;32m   2777\u001b[0m \u001b[39mdef\u001b[39;00m \u001b[39m_set_all_models\u001b[39m(\u001b[39mself\u001b[39m) \u001b[39m-\u001b[39m\u001b[39m>\u001b[39m \u001b[39m\"\u001b[39m\u001b[39m_TabularExperiment\u001b[39m\u001b[39m\"\u001b[39m:\n\u001b[1;32m   2778\u001b[0m     \u001b[39m\"\"\"Set all available models\u001b[39;00m\n\u001b[1;32m   2779\u001b[0m \n\u001b[1;32m   2780\u001b[0m \u001b[39m    Returns\u001b[39;00m\n\u001b[0;32m   (...)\u001b[0m\n\u001b[1;32m   2783\u001b[0m \u001b[39m        The experiment object to allow chaining of methods\u001b[39;00m\n\u001b[1;32m   2784\u001b[0m \u001b[39m    \"\"\"\u001b[39;00m\n\u001b[0;32m-> 2785\u001b[0m     \u001b[39mself\u001b[39m\u001b[39m.\u001b[39m_all_models, \u001b[39mself\u001b[39m\u001b[39m.\u001b[39m_all_models_internal \u001b[39m=\u001b[39m \u001b[39mself\u001b[39;49m\u001b[39m.\u001b[39;49m_get_models()\n\u001b[1;32m   2786\u001b[0m     \u001b[39mreturn\u001b[39;00m \u001b[39mself\u001b[39m\n",
      "File \u001b[0;32m/Library/Frameworks/Python.framework/Versions/3.10/lib/python3.10/site-packages/pycaret/classification/oop.py:81\u001b[0m, in \u001b[0;36mClassificationExperiment._get_models\u001b[0;34m(self, raise_errors)\u001b[0m\n\u001b[1;32m     78\u001b[0m \u001b[39mdef\u001b[39;00m \u001b[39m_get_models\u001b[39m(\u001b[39mself\u001b[39m, raise_errors: \u001b[39mbool\u001b[39m \u001b[39m=\u001b[39m \u001b[39mTrue\u001b[39;00m) \u001b[39m-\u001b[39m\u001b[39m>\u001b[39m Tuple[\u001b[39mdict\u001b[39m, \u001b[39mdict\u001b[39m]:\n\u001b[1;32m     79\u001b[0m     all_models \u001b[39m=\u001b[39m {\n\u001b[1;32m     80\u001b[0m         k: v\n\u001b[0;32m---> 81\u001b[0m         \u001b[39mfor\u001b[39;00m k, v \u001b[39min\u001b[39;00m get_all_class_model_containers(\n\u001b[1;32m     82\u001b[0m             \u001b[39mself\u001b[39;49m, raise_errors\u001b[39m=\u001b[39;49mraise_errors\n\u001b[1;32m     83\u001b[0m         )\u001b[39m.\u001b[39mitems()\n\u001b[1;32m     84\u001b[0m         \u001b[39mif\u001b[39;00m \u001b[39mnot\u001b[39;00m v\u001b[39m.\u001b[39mis_special\n\u001b[1;32m     85\u001b[0m     }\n\u001b[1;32m     86\u001b[0m     all_models_internal \u001b[39m=\u001b[39m get_all_class_model_containers(\n\u001b[1;32m     87\u001b[0m         \u001b[39mself\u001b[39m, raise_errors\u001b[39m=\u001b[39mraise_errors\n\u001b[1;32m     88\u001b[0m     )\n\u001b[1;32m     89\u001b[0m     \u001b[39mreturn\u001b[39;00m all_models, all_models_internal\n",
      "File \u001b[0;32m/Library/Frameworks/Python.framework/Versions/3.10/lib/python3.10/site-packages/pycaret/containers/models/classification.py:1644\u001b[0m, in \u001b[0;36mget_all_model_containers\u001b[0;34m(experiment, raise_errors)\u001b[0m\n\u001b[1;32m   1641\u001b[0m \u001b[39mdef\u001b[39;00m \u001b[39mget_all_model_containers\u001b[39m(\n\u001b[1;32m   1642\u001b[0m     experiment: Any, raise_errors: \u001b[39mbool\u001b[39m \u001b[39m=\u001b[39m \u001b[39mTrue\u001b[39;00m\n\u001b[1;32m   1643\u001b[0m ) \u001b[39m-\u001b[39m\u001b[39m>\u001b[39m Dict[\u001b[39mstr\u001b[39m, ClassifierContainer]:\n\u001b[0;32m-> 1644\u001b[0m     \u001b[39mreturn\u001b[39;00m pycaret\u001b[39m.\u001b[39;49mcontainers\u001b[39m.\u001b[39;49mbase_container\u001b[39m.\u001b[39;49mget_all_containers(\n\u001b[1;32m   1645\u001b[0m         \u001b[39mglobals\u001b[39;49m(), experiment, ClassifierContainer, raise_errors\n\u001b[1;32m   1646\u001b[0m     )\n",
      "File \u001b[0;32m/Library/Frameworks/Python.framework/Versions/3.10/lib/python3.10/site-packages/pycaret/containers/base_container.py:119\u001b[0m, in \u001b[0;36mget_all_containers\u001b[0;34m(container_globals, experiment, type_var, raise_errors)\u001b[0m\n\u001b[1;32m    117\u001b[0m \u001b[39mif\u001b[39;00m \u001b[39mhasattr\u001b[39m(obj, \u001b[39m\"\u001b[39m\u001b[39mactive\u001b[39m\u001b[39m\"\u001b[39m) \u001b[39mand\u001b[39;00m \u001b[39mnot\u001b[39;00m obj\u001b[39m.\u001b[39mactive:\n\u001b[1;32m    118\u001b[0m     \u001b[39mcontinue\u001b[39;00m\n\u001b[0;32m--> 119\u001b[0m instance \u001b[39m=\u001b[39m obj(experiment)\n\u001b[1;32m    120\u001b[0m \u001b[39mif\u001b[39;00m instance\u001b[39m.\u001b[39mactive:\n\u001b[1;32m    121\u001b[0m     model_containers\u001b[39m.\u001b[39mappend(instance)\n",
      "File \u001b[0;32m/Library/Frameworks/Python.framework/Versions/3.10/lib/python3.10/site-packages/pycaret/containers/models/classification.py:1258\u001b[0m, in \u001b[0;36mLGBMClassifierContainer.__init__\u001b[0;34m(self, experiment)\u001b[0m\n\u001b[1;32m   1256\u001b[0m get_logger()\n\u001b[1;32m   1257\u001b[0m np\u001b[39m.\u001b[39mrandom\u001b[39m.\u001b[39mseed(experiment\u001b[39m.\u001b[39mseed)\n\u001b[0;32m-> 1258\u001b[0m \u001b[39mfrom\u001b[39;00m \u001b[39mlightgbm\u001b[39;00m \u001b[39mimport\u001b[39;00m LGBMClassifier\n\u001b[1;32m   1259\u001b[0m \u001b[39mfrom\u001b[39;00m \u001b[39mlightgbm\u001b[39;00m\u001b[39m.\u001b[39;00m\u001b[39mbasic\u001b[39;00m \u001b[39mimport\u001b[39;00m LightGBMError\n\u001b[1;32m   1261\u001b[0m args \u001b[39m=\u001b[39m {\n\u001b[1;32m   1262\u001b[0m     \u001b[39m\"\u001b[39m\u001b[39mrandom_state\u001b[39m\u001b[39m\"\u001b[39m: experiment\u001b[39m.\u001b[39mseed,\n\u001b[1;32m   1263\u001b[0m     \u001b[39m\"\u001b[39m\u001b[39mn_jobs\u001b[39m\u001b[39m\"\u001b[39m: experiment\u001b[39m.\u001b[39mn_jobs_param,\n\u001b[1;32m   1264\u001b[0m }\n",
      "File \u001b[0;32m/Library/Frameworks/Python.framework/Versions/3.10/lib/python3.10/site-packages/lightgbm/__init__.py:8\u001b[0m\n\u001b[1;32m      2\u001b[0m \u001b[39m\"\"\"LightGBM, Light Gradient Boosting Machine.\u001b[39;00m\n\u001b[1;32m      3\u001b[0m \n\u001b[1;32m      4\u001b[0m \u001b[39mContributors: https://github.com/microsoft/LightGBM/graphs/contributors.\u001b[39;00m\n\u001b[1;32m      5\u001b[0m \u001b[39m\"\"\"\u001b[39;00m\n\u001b[1;32m      6\u001b[0m \u001b[39mfrom\u001b[39;00m \u001b[39mpathlib\u001b[39;00m \u001b[39mimport\u001b[39;00m Path\n\u001b[0;32m----> 8\u001b[0m \u001b[39mfrom\u001b[39;00m \u001b[39m.\u001b[39;00m\u001b[39mbasic\u001b[39;00m \u001b[39mimport\u001b[39;00m Booster, Dataset, Sequence, register_logger\n\u001b[1;32m      9\u001b[0m \u001b[39mfrom\u001b[39;00m \u001b[39m.\u001b[39;00m\u001b[39mcallback\u001b[39;00m \u001b[39mimport\u001b[39;00m early_stopping, log_evaluation, print_evaluation, record_evaluation, reset_parameter\n\u001b[1;32m     10\u001b[0m \u001b[39mfrom\u001b[39;00m \u001b[39m.\u001b[39;00m\u001b[39mengine\u001b[39;00m \u001b[39mimport\u001b[39;00m CVBooster, cv, train\n",
      "File \u001b[0;32m/Library/Frameworks/Python.framework/Versions/3.10/lib/python3.10/site-packages/lightgbm/basic.py:110\u001b[0m\n\u001b[1;32m    106\u001b[0m         \u001b[39mraise\u001b[39;00m LightGBMError(lib\u001b[39m.\u001b[39mLGBM_GetLastError()\u001b[39m.\u001b[39mdecode(\u001b[39m'\u001b[39m\u001b[39mutf-8\u001b[39m\u001b[39m'\u001b[39m))\n\u001b[1;32m    107\u001b[0m     \u001b[39mreturn\u001b[39;00m lib\n\u001b[0;32m--> 110\u001b[0m _LIB \u001b[39m=\u001b[39m _load_lib()\n\u001b[1;32m    113\u001b[0m NUMERIC_TYPES \u001b[39m=\u001b[39m (\u001b[39mint\u001b[39m, \u001b[39mfloat\u001b[39m, \u001b[39mbool\u001b[39m)\n\u001b[1;32m    116\u001b[0m \u001b[39mdef\u001b[39;00m \u001b[39m_safe_call\u001b[39m(ret: \u001b[39mint\u001b[39m) \u001b[39m-\u001b[39m\u001b[39m>\u001b[39m \u001b[39mNone\u001b[39;00m:\n",
      "File \u001b[0;32m/Library/Frameworks/Python.framework/Versions/3.10/lib/python3.10/site-packages/lightgbm/basic.py:101\u001b[0m, in \u001b[0;36m_load_lib\u001b[0;34m()\u001b[0m\n\u001b[1;32m     99\u001b[0m \u001b[39mif\u001b[39;00m \u001b[39mlen\u001b[39m(lib_path) \u001b[39m==\u001b[39m \u001b[39m0\u001b[39m:\n\u001b[1;32m    100\u001b[0m     \u001b[39mreturn\u001b[39;00m \u001b[39mNone\u001b[39;00m\n\u001b[0;32m--> 101\u001b[0m lib \u001b[39m=\u001b[39m ctypes\u001b[39m.\u001b[39;49mcdll\u001b[39m.\u001b[39;49mLoadLibrary(lib_path[\u001b[39m0\u001b[39;49m])\n\u001b[1;32m    102\u001b[0m lib\u001b[39m.\u001b[39mLGBM_GetLastError\u001b[39m.\u001b[39mrestype \u001b[39m=\u001b[39m ctypes\u001b[39m.\u001b[39mc_char_p\n\u001b[1;32m    103\u001b[0m callback \u001b[39m=\u001b[39m ctypes\u001b[39m.\u001b[39mCFUNCTYPE(\u001b[39mNone\u001b[39;00m, ctypes\u001b[39m.\u001b[39mc_char_p)\n",
      "File \u001b[0;32m/Library/Frameworks/Python.framework/Versions/3.10/lib/python3.10/ctypes/__init__.py:452\u001b[0m, in \u001b[0;36mLibraryLoader.LoadLibrary\u001b[0;34m(self, name)\u001b[0m\n\u001b[1;32m    451\u001b[0m \u001b[39mdef\u001b[39;00m \u001b[39mLoadLibrary\u001b[39m(\u001b[39mself\u001b[39m, name):\n\u001b[0;32m--> 452\u001b[0m     \u001b[39mreturn\u001b[39;00m \u001b[39mself\u001b[39;49m\u001b[39m.\u001b[39;49m_dlltype(name)\n",
      "File \u001b[0;32m/Library/Frameworks/Python.framework/Versions/3.10/lib/python3.10/ctypes/__init__.py:374\u001b[0m, in \u001b[0;36mCDLL.__init__\u001b[0;34m(self, name, mode, handle, use_errno, use_last_error, winmode)\u001b[0m\n\u001b[1;32m    371\u001b[0m \u001b[39mself\u001b[39m\u001b[39m.\u001b[39m_FuncPtr \u001b[39m=\u001b[39m _FuncPtr\n\u001b[1;32m    373\u001b[0m \u001b[39mif\u001b[39;00m handle \u001b[39mis\u001b[39;00m \u001b[39mNone\u001b[39;00m:\n\u001b[0;32m--> 374\u001b[0m     \u001b[39mself\u001b[39m\u001b[39m.\u001b[39m_handle \u001b[39m=\u001b[39m _dlopen(\u001b[39mself\u001b[39;49m\u001b[39m.\u001b[39;49m_name, mode)\n\u001b[1;32m    375\u001b[0m \u001b[39melse\u001b[39;00m:\n\u001b[1;32m    376\u001b[0m     \u001b[39mself\u001b[39m\u001b[39m.\u001b[39m_handle \u001b[39m=\u001b[39m handle\n",
      "\u001b[0;31mOSError\u001b[0m: dlopen(/Library/Frameworks/Python.framework/Versions/3.10/lib/python3.10/site-packages/lightgbm/lib_lightgbm.so, 0x0006): Library not loaded: '/usr/local/opt/libomp/lib/libomp.dylib'\n  Referenced from: '/Library/Frameworks/Python.framework/Versions/3.10/lib/python3.10/site-packages/lightgbm/lib_lightgbm.so'\n  Reason: tried: '/usr/local/opt/libomp/lib/libomp.dylib' (no such file), '/usr/lib/libomp.dylib' (no such file)"
     ]
    }
   ],
   "source": [
    "exp_clf101 = setup(data = data, target = 'default', session_id=123) "
   ]
  }
 ],
 "metadata": {
  "kernelspec": {
   "display_name": "Python 3.10.7 64-bit",
   "language": "python",
   "name": "python3"
  },
  "language_info": {
   "codemirror_mode": {
    "name": "ipython",
    "version": 3
   },
   "file_extension": ".py",
   "mimetype": "text/x-python",
   "name": "python",
   "nbconvert_exporter": "python",
   "pygments_lexer": "ipython3",
   "version": "3.10.7"
  },
  "orig_nbformat": 4,
  "vscode": {
   "interpreter": {
    "hash": "7e1998ff7f8aa20ada591c520b972326324e5ea05489af9e422744c7c09f6dad"
   }
  }
 },
 "nbformat": 4,
 "nbformat_minor": 2
}
