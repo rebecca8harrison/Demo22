{
 "cells": [
  {
   "cell_type": "code",
   "execution_count": 1,
   "metadata": {},
   "outputs": [],
   "source": [
    "import numpy as np"
   ]
  },
  {
   "cell_type": "code",
   "execution_count": 2,
   "metadata": {},
   "outputs": [],
   "source": [
    "# 0 dimensional array or a scalar\n",
    "my0dArray = np.array(42)\n",
    "\n",
    "# # 1 dimensional array (its a list)\n",
    "my1dArray = np.array([1,2,3])\n",
    "\n",
    "# 2 dimensional array (its a list of lists)\n",
    "my2dArray = np.array([[1,2,3],[4,5,6]])"
   ]
  },
  {
   "cell_type": "code",
   "execution_count": 3,
   "metadata": {},
   "outputs": [
    {
     "name": "stdout",
     "output_type": "stream",
     "text": [
      "[[0. 0. 0. 0. 0. 0. 0.]\n",
      " [0. 0. 0. 0. 0. 0. 0.]\n",
      " [0. 0. 0. 0. 0. 0. 0.]\n",
      " [0. 0. 0. 0. 0. 0. 0.]\n",
      " [0. 0. 0. 0. 0. 0. 0.]]\n",
      "[[1. 1. 1. 1. 1. 1. 1.]\n",
      " [1. 1. 1. 1. 1. 1. 1.]\n",
      " [1. 1. 1. 1. 1. 1. 1.]\n",
      " [1. 1. 1. 1. 1. 1. 1.]\n",
      " [1. 1. 1. 1. 1. 1. 1.]]\n",
      "[[5. 5. 5. 5. 5. 5. 5.]\n",
      " [5. 5. 5. 5. 5. 5. 5.]\n",
      " [5. 5. 5. 5. 5. 5. 5.]\n",
      " [5. 5. 5. 5. 5. 5. 5.]\n",
      " [5. 5. 5. 5. 5. 5. 5.]]\n",
      "[[7. 7. 7. 7. 7. 7. 7.]\n",
      " [7. 7. 7. 7. 7. 7. 7.]\n",
      " [7. 7. 7. 7. 7. 7. 7.]\n",
      " [7. 7. 7. 7. 7. 7. 7.]\n",
      " [7. 7. 7. 7. 7. 7. 7.]]\n"
     ]
    }
   ],
   "source": [
    "# Creating numpy arrays that are manipulatable in a mathematical way\n",
    "number_rows = 5\n",
    "number_columns = 7\n",
    "\n",
    "array0s = np.zeros((number_rows,number_columns))\n",
    "array1s = np.ones((number_rows,number_columns))\n",
    "array5s = 5*np.ones((number_rows,number_columns))\n",
    "array7s = np.full((number_rows,number_columns),7.0)\n",
    "\n",
    "print(array0s)\n",
    "print(array1s)\n",
    "print(array5s)\n",
    "print(array7s)\n",
    "\n",
    "\n",
    "# You can set the data type in a number of ways:\n",
    "array7s = np.full((number_rows,number_columns),7.0) # stores as a float\n",
    "array7s = np.full((number_rows,number_columns),7) # stores as an integer\n",
    "\n",
    "array7s = 7*np.ones((number_rows,number_columns),dtype = 'float') # stores as a float\n",
    "array7s = 7*np.ones((number_rows,number_columns),dtype = 'int') # stores as an integer\n",
    "array7s = 7*np.ones((number_rows,number_columns),dtype = np.float32)\n",
    "\n",
    "# See here for more detail: https://numpy.org/doc/stable/user/basics.types.html"
   ]
  },
  {
   "cell_type": "code",
   "execution_count": 4,
   "metadata": {},
   "outputs": [
    {
     "name": "stdout",
     "output_type": "stream",
     "text": [
      "[[0.71514964 0.64223934 0.38883381]\n",
      " [0.11186917 0.62301865 0.88708289]]\n",
      "[[3 5 0]\n",
      " [7 9 3]]\n"
     ]
    }
   ],
   "source": [
    "# Creating a range of random numbers\n",
    "random01 = np.random.random((2,3)) # 2x3 array of random numbers in the interval 0.0,1.0\n",
    "randomIntRange = np.random.randint(0,10,(2,3)) #2x3 array of random numbers in the specified interval [0,10])\n",
    "\n",
    "print(random01)\n",
    "print(randomIntRange)"
   ]
  },
  {
   "cell_type": "code",
   "execution_count": 5,
   "metadata": {},
   "outputs": [
    {
     "data": {
      "text/plain": [
       "dtype('int64')"
      ]
     },
     "execution_count": 5,
     "metadata": {},
     "output_type": "execute_result"
    }
   ],
   "source": [
    "# Numpy array and python list behave similarly\n",
    "list = [1,2,3]\n",
    "arr = np.array([1,2,3])\n",
    "\n",
    "a=np.array([[5,6,3],[2,5,1]])\n",
    "# Can check the properties of a numpy array\n",
    "a.ndim # dimension\n",
    "a.shape # shape\n",
    "a.size #size\n",
    "a.dtype #data type\n"
   ]
  },
  {
   "cell_type": "code",
   "execution_count": 6,
   "metadata": {},
   "outputs": [
    {
     "name": "stdout",
     "output_type": "stream",
     "text": [
      "[ 0  2  4 -5 -3 -7  8 -9 -5 -1]\n"
     ]
    }
   ],
   "source": [
    "# Generate the Numpy array:\n",
    "\n",
    "arr = np.array([0,2,4,5,3,7,8,9,5,1])\n",
    "\n",
    "# Take all the negative values and replace them by their negative values\n",
    "arr[arr % 2 ==1] = -1*arr[arr % 2 ==1]\n",
    "\n",
    "print(arr)\n"
   ]
  },
  {
   "cell_type": "code",
   "execution_count": 7,
   "metadata": {},
   "outputs": [],
   "source": [
    "# Numpy arithmetics\n",
    "#Assume:\n",
    "a = np.array([[1,2,5],[7,1,3]])\n",
    "b = np.array([[4,6,9],[2,5,1]])"
   ]
  },
  {
   "cell_type": "code",
   "execution_count": 8,
   "metadata": {},
   "outputs": [],
   "source": [
    "# addition\n",
    "add1 = a + b\n",
    "add2 = np.add(a,b)\n",
    "\n",
    "# subtraction\n",
    "sub1 = a - b\n",
    "sub2 = np.subtract(a,b)\n",
    "\n",
    "# multiplication\n",
    "multi1 = a * b\n",
    "multi2 = np.multiply(a,b)\n",
    "\n",
    "# Division\n",
    "div1 = a / b\n",
    "div2 = np.divide(a,b)\n",
    "\n",
    "# Other useful functions:\n",
    "exp1 = np.exp(a)\n",
    "sqroot1 = np.sqrt(a)\n",
    "sin1 = np.sin(a)\n",
    "cos1 = np.cos(a)\n",
    "log1 = np.log(a)\n",
    "\n",
    "#dot product:\n",
    "c = np.array([[1,2],[3,4],[5,6]])\n",
    "dotp = a.dot(c)\n"
   ]
  },
  {
   "cell_type": "code",
   "execution_count": 9,
   "metadata": {},
   "outputs": [],
   "source": [
    "# Some basic statistical functions\n",
    "# Use axis=0 or axis=1 for row or column wise operations\n",
    "a = np.array([[1,2,5],[7,1,3]])\n",
    "# Summation\n",
    "sum1 = a.sum()\n",
    "sum2 = np.sum(a)\n",
    "\n",
    "# Column wise summation\n",
    "summ1row = a.sum(axis=0) # column wise\n",
    "summ1row = a.sum(axis=1) # row wise\n",
    "\n",
    "# Maximum\n",
    "maxi = a.max()\n",
    "\n",
    "# Mean (column wise)\n",
    "average = np.mean(a, axis=0)\n",
    "\n",
    "# Std\n",
    "std = np.std(a)"
   ]
  },
  {
   "cell_type": "code",
   "execution_count": 10,
   "metadata": {},
   "outputs": [],
   "source": [
    "a = np.array([[1,2,5],[7,1,3]])\n",
    "b = np.array([[7,8,9],[10,11,12]])\n",
    "\n",
    "# Transpose\n",
    "aTr1 = np.transpose(a)\n",
    "aTr2 = a.T\n",
    "\n",
    "# Reshape:\n",
    "reshape1 = np.reshape(a,(3,2)) # reshpapres to 3 rows and 2 columns\n",
    "reshape2 = a.reshape(3,2)\n",
    "\n",
    "# reshape to row:\n",
    "reshapeToRow = a.reshape(6)"
   ]
  },
  {
   "cell_type": "code",
   "execution_count": 11,
   "metadata": {},
   "outputs": [
    {
     "name": "stdout",
     "output_type": "stream",
     "text": [
      "[[ 1  2  5  7  8  9]\n",
      " [ 7  1  3 10 11 12]]\n",
      "[[ 1  2  5]\n",
      " [ 7  1  3]\n",
      " [ 7  8  9]\n",
      " [10 11 12]]\n"
     ]
    }
   ],
   "source": [
    "# Stack horizontally - which also seems to me like append\n",
    "horizontal_stack = np.hstack([a,b])\n",
    "print(horizontal_stack)\n",
    "\n",
    "# Stack vertically - which also seems to me like adding new columns\n",
    "vertical_stack = np.vstack([a,b])\n",
    "print(vertical_stack)"
   ]
  },
  {
   "cell_type": "code",
   "execution_count": 12,
   "metadata": {},
   "outputs": [
    {
     "name": "stdout",
     "output_type": "stream",
     "text": [
      "[[ 1  2  5  7  8  9]\n",
      " [ 7  1  3 10 11 12]]\n",
      "[[ 1  2  5]\n",
      " [ 7  1  3]\n",
      " [ 7  8  9]\n",
      " [10 11 12]]\n"
     ]
    }
   ],
   "source": [
    "# Concatenate arrays\n",
    "\n",
    "# Columnwise (looks to be like horizontal stack)\n",
    "ab = np.concatenate((a,b), axis=1)\n",
    "print(ab)\n",
    "\n",
    "# Rowwise (looks to be similar to the vertical stack)\n",
    "ab = np.concatenate((a,b), axis=0)\n",
    "print(ab)"
   ]
  },
  {
   "cell_type": "code",
   "execution_count": 13,
   "metadata": {},
   "outputs": [],
   "source": [
    "# Save an array to a binary file (.npy)\n",
    "np.save('Data/array_a',ab)\n",
    "\n",
    "# or save several in one to an .npz file\n",
    "np.savez('Data/arrays_abab',arr1=a,arr2=b)\n",
    "\n",
    "# then you can load again\n",
    "ab_reload = np.load('Data/array_a.npy')\n",
    "contents = np.load('Data/arrays_abab.npz')\n",
    "a_reload = contents[\"arr1\"]\n",
    "b_reload = contents[\"arr2\"]\n"
   ]
  },
  {
   "cell_type": "code",
   "execution_count": 14,
   "metadata": {},
   "outputs": [
    {
     "name": "stdout",
     "output_type": "stream",
     "text": [
      "[[1 2 5]\n",
      " [7 1 3]]\n",
      "6\n",
      "Unexpected exception formatting exception. Falling back to standard exception\n"
     ]
    },
    {
     "name": "stderr",
     "output_type": "stream",
     "text": [
      "Traceback (most recent call last):\n",
      "  File \"/Library/Frameworks/Python.framework/Versions/3.11/lib/python3.11/site-packages/IPython/core/interactiveshell.py\", line 3378, in run_code\n",
      "    exec(code_obj, self.user_global_ns, self.user_ns)\n",
      "  File \"/var/folders/w3/j_v3f_rs4hlbh_rnzsc6j2rm0000gn/T/ipykernel_13883/3250484421.py\", line 9, in <module>\n",
      "    np.vstack((row_header,a)) # Can use this to add a column header\n",
      "    ^^^^^^^^^^^^^^^^^^^^^^^^^\n",
      "  File \"<__array_function__ internals>\", line 180, in vstack\n",
      "  File \"/Library/Frameworks/Python.framework/Versions/3.11/lib/python3.11/site-packages/numpy/core/shape_base.py\", line 282, in vstack\n",
      "    return _nx.concatenate(arrs, 0)\n",
      "           ^^^^^^^^^^^^^^^^^^^^^^^^\n",
      "  File \"<__array_function__ internals>\", line 180, in concatenate\n",
      "ValueError: all the input array dimensions for the concatenation axis must match exactly, but along dimension 1, the array at index 0 has size 2 and the array at index 1 has size 3\n",
      "\n",
      "During handling of the above exception, another exception occurred:\n",
      "\n",
      "Traceback (most recent call last):\n",
      "  File \"/Library/Frameworks/Python.framework/Versions/3.11/lib/python3.11/site-packages/IPython/core/interactiveshell.py\", line 1997, in showtraceback\n",
      "    stb = self.InteractiveTB.structured_traceback(\n",
      "          ^^^^^^^^^^^^^^^^^^^^^^^^^^^^^^^^^^^^^^^^\n",
      "  File \"/Library/Frameworks/Python.framework/Versions/3.11/lib/python3.11/site-packages/IPython/core/ultratb.py\", line 1112, in structured_traceback\n",
      "    return FormattedTB.structured_traceback(\n",
      "           ^^^^^^^^^^^^^^^^^^^^^^^^^^^^^^^^^\n",
      "  File \"/Library/Frameworks/Python.framework/Versions/3.11/lib/python3.11/site-packages/IPython/core/ultratb.py\", line 1006, in structured_traceback\n",
      "    return VerboseTB.structured_traceback(\n",
      "           ^^^^^^^^^^^^^^^^^^^^^^^^^^^^^^^\n",
      "  File \"/Library/Frameworks/Python.framework/Versions/3.11/lib/python3.11/site-packages/IPython/core/ultratb.py\", line 859, in structured_traceback\n",
      "    formatted_exception = self.format_exception_as_a_whole(etype, evalue, etb, number_of_lines_of_context,\n",
      "                          ^^^^^^^^^^^^^^^^^^^^^^^^^^^^^^^^^^^^^^^^^^^^^^^^^^^^^^^^^^^^^^^^^^^^^^^^^^^^^^^^\n",
      "  File \"/Library/Frameworks/Python.framework/Versions/3.11/lib/python3.11/site-packages/IPython/core/ultratb.py\", line 793, in format_exception_as_a_whole\n",
      "    self.get_records(etb, number_of_lines_of_context, tb_offset) if etb else []\n",
      "    ^^^^^^^^^^^^^^^^^^^^^^^^^^^^^^^^^^^^^^^^^^^^^^^^^^^^^^^^^^^^\n",
      "  File \"/Library/Frameworks/Python.framework/Versions/3.11/lib/python3.11/site-packages/IPython/core/ultratb.py\", line 839, in get_records\n",
      "    style = stack_data.style_with_executing_node(style, \"bg:ansiyellow\")\n",
      "            ^^^^^^^^^^^^^^^^^^^^^^^^^^^^^^^^^^^^^^^^^^^^^^^^^^^^^^^^^^^^\n",
      "  File \"/Library/Frameworks/Python.framework/Versions/3.11/lib/python3.11/site-packages/stack_data/core.py\", line 455, in style_with_executing_node\n",
      "    class NewStyle(style):\n",
      "  File \"/Library/Frameworks/Python.framework/Versions/3.11/lib/python3.11/site-packages/pygments/style.py\", line 91, in __new__\n",
      "    ndef[4] = colorformat(styledef[3:])\n",
      "              ^^^^^^^^^^^^^^^^^^^^^^^^^\n",
      "  File \"/Library/Frameworks/Python.framework/Versions/3.11/lib/python3.11/site-packages/pygments/style.py\", line 58, in colorformat\n",
      "    assert False, \"wrong color format %r\" % text\n",
      "AssertionError: wrong color format 'ansiyellow'\n"
     ]
    }
   ],
   "source": [
    "# Export array a to csv\n",
    "print(a)\n",
    "print(a.size)\n",
    "np.around(a,1) #rounding to 1 dp\n",
    "np.char.mod(\"%.1f\",a) # storing as a string\n",
    "col_header = [\"a\",\"b\",\"c\"]\n",
    "row_header = [\"z\",\"y\"]\n",
    "\n",
    "np.vstack((row_header,a)) # Can use this to add a column header\n",
    "np.hstack((col_header,a)) # Can use this to add row headers\n",
    "np.savetxt(\"Data/my_a_file.csv\",a,delimiter=\",\",fmt=\"%s\") # %d specifies an integer and %s specifies a string\n",
    "\n",
    "# Loading array a from csv\n",
    "csv = np.loadtxt(\"Data/my_a_file.csv\", delimiter = ',') # This doesn't work because there are strings not numbers in there\n",
    "\n",
    "print(csv)"
   ]
  }
 ],
 "metadata": {
  "kernelspec": {
   "display_name": "Python 3.11.0 64-bit",
   "language": "python",
   "name": "python3"
  },
  "language_info": {
   "codemirror_mode": {
    "name": "ipython",
    "version": 3
   },
   "file_extension": ".py",
   "mimetype": "text/x-python",
   "name": "python",
   "nbconvert_exporter": "python",
   "pygments_lexer": "ipython3",
   "version": "3.11.0"
  },
  "orig_nbformat": 4,
  "vscode": {
   "interpreter": {
    "hash": "949777d72b0d2535278d3dc13498b2535136f6dfe0678499012e853ee9abcab1"
   }
  }
 },
 "nbformat": 4,
 "nbformat_minor": 2
}
