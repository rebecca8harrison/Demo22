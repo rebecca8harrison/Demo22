{
 "cells": [
  {
   "cell_type": "code",
   "execution_count": 2,
   "metadata": {},
   "outputs": [],
   "source": [
    "import numpy as np"
   ]
  },
  {
   "cell_type": "code",
   "execution_count": 3,
   "metadata": {},
   "outputs": [],
   "source": [
    "# 0 dimensional array or a scalar\n",
    "my0dArray = np.array(42)\n",
    "\n",
    "# # 1 dimensional array (its a list)\n",
    "my1dArray = np.array([1,2,3])\n",
    "\n",
    "# 2 dimensional array (its a list of lists)\n",
    "my2dArray = np.array([[1,2,3],[4,5,6]])"
   ]
  },
  {
   "cell_type": "code",
   "execution_count": 4,
   "metadata": {},
   "outputs": [
    {
     "name": "stdout",
     "output_type": "stream",
     "text": [
      "[[0. 0. 0. 0. 0. 0. 0.]\n",
      " [0. 0. 0. 0. 0. 0. 0.]\n",
      " [0. 0. 0. 0. 0. 0. 0.]\n",
      " [0. 0. 0. 0. 0. 0. 0.]\n",
      " [0. 0. 0. 0. 0. 0. 0.]]\n",
      "[[1. 1. 1. 1. 1. 1. 1.]\n",
      " [1. 1. 1. 1. 1. 1. 1.]\n",
      " [1. 1. 1. 1. 1. 1. 1.]\n",
      " [1. 1. 1. 1. 1. 1. 1.]\n",
      " [1. 1. 1. 1. 1. 1. 1.]]\n",
      "[[5. 5. 5. 5. 5. 5. 5.]\n",
      " [5. 5. 5. 5. 5. 5. 5.]\n",
      " [5. 5. 5. 5. 5. 5. 5.]\n",
      " [5. 5. 5. 5. 5. 5. 5.]\n",
      " [5. 5. 5. 5. 5. 5. 5.]]\n",
      "[[7. 7. 7. 7. 7. 7. 7.]\n",
      " [7. 7. 7. 7. 7. 7. 7.]\n",
      " [7. 7. 7. 7. 7. 7. 7.]\n",
      " [7. 7. 7. 7. 7. 7. 7.]\n",
      " [7. 7. 7. 7. 7. 7. 7.]]\n"
     ]
    }
   ],
   "source": [
    "# Creating numpy arrays that are manipulatable in a mathematical way\n",
    "number_rows = 5\n",
    "number_columns = 7\n",
    "\n",
    "array0s = np.zeros((number_rows,number_columns))\n",
    "array1s = np.ones((number_rows,number_columns))\n",
    "array5s = 5*np.ones((number_rows,number_columns))\n",
    "array7s = np.full((number_rows,number_columns),7.0)\n",
    "\n",
    "print(array0s)\n",
    "print(array1s)\n",
    "print(array5s)\n",
    "print(array7s)\n",
    "\n",
    "\n",
    "# You can set the data type in a number of ways:\n",
    "array7s = np.full((number_rows,number_columns),7.0) # stores as a float\n",
    "array7s = np.full((number_rows,number_columns),7) # stores as an integer\n",
    "\n",
    "array7s = 7*np.ones((number_rows,number_columns),dtype = 'float') # stores as a float\n",
    "array7s = 7*np.ones((number_rows,number_columns),dtype = 'int') # stores as an integer\n",
    "array7s = 7*np.ones((number_rows,number_columns),dtype = np.float32)\n",
    "\n",
    "# See here for more detail: https://numpy.org/doc/stable/user/basics.types.html"
   ]
  },
  {
   "cell_type": "code",
   "execution_count": 5,
   "metadata": {},
   "outputs": [
    {
     "name": "stdout",
     "output_type": "stream",
     "text": [
      "[[0.60805058 0.86703574 0.76631489]\n",
      " [0.567058   0.38534898 0.6823633 ]]\n",
      "[[1 9 5]\n",
      " [2 4 0]]\n"
     ]
    }
   ],
   "source": [
    "# Creating a range of random numbers\n",
    "random01 = np.random.random((2,3)) # 2x3 array of random numbers in the interval 0.0,1.0\n",
    "randomIntRange = np.random.randint(0,10,(2,3)) #2x3 array of random numbers in the specified interval [0,10])\n",
    "\n",
    "print(random01)\n",
    "print(randomIntRange)"
   ]
  },
  {
   "cell_type": "code",
   "execution_count": 6,
   "metadata": {},
   "outputs": [
    {
     "data": {
      "text/plain": [
       "dtype('int64')"
      ]
     },
     "execution_count": 6,
     "metadata": {},
     "output_type": "execute_result"
    }
   ],
   "source": [
    "# Numpy array and python list behave similarly\n",
    "list = [1,2,3]\n",
    "arr = np.array([1,2,3])\n",
    "\n",
    "a=np.array([[5,6,3],[2,5,1]])\n",
    "# Can check the properties of a numpy array\n",
    "a.ndim # dimension\n",
    "a.shape # shape\n",
    "a.size #size\n",
    "a.dtype #data type\n"
   ]
  },
  {
   "cell_type": "code",
   "execution_count": 7,
   "metadata": {},
   "outputs": [
    {
     "name": "stdout",
     "output_type": "stream",
     "text": [
      "[ 0  2  4 -5 -3 -7  8 -9 -5 -1]\n"
     ]
    }
   ],
   "source": [
    "# Generate the Numpy array:\n",
    "\n",
    "arr = np.array([0,2,4,5,3,7,8,9,5,1])\n",
    "\n",
    "# Take all the negative values and replace them by their negative values\n",
    "arr[arr % 2 ==1] = -1*arr[arr % 2 ==1]\n",
    "\n",
    "print(arr)\n"
   ]
  },
  {
   "cell_type": "code",
   "execution_count": 8,
   "metadata": {},
   "outputs": [],
   "source": [
    "# Numpy arithmetics\n",
    "#Assume:\n",
    "a = np.array([[1,2,5],[7,1,3]])\n",
    "b = np.array([[4,6,9],[2,5,1]])"
   ]
  },
  {
   "cell_type": "code",
   "execution_count": 9,
   "metadata": {},
   "outputs": [],
   "source": [
    "# addition\n",
    "add1 = a + b\n",
    "add2 = np.add(a,b)\n",
    "\n",
    "# subtraction\n",
    "sub1 = a - b\n",
    "sub2 = np.subtract(a,b)\n",
    "\n",
    "# multiplication\n",
    "multi1 = a * b\n",
    "multi2 = np.multiply(a,b)\n",
    "\n",
    "# Division\n",
    "div1 = a / b\n",
    "div2 = np.divide(a,b)\n",
    "\n",
    "# Other useful functions:\n",
    "exp1 = np.exp(a)\n",
    "sqroot1 = np.sqrt(a)\n",
    "sin1 = np.sin(a)\n",
    "cos1 = np.cos(a)\n",
    "log1 = np.log(a)\n",
    "\n",
    "#dot product:\n",
    "c = np.array([[1,2],[3,4],[5,6]])\n",
    "dotp = a.dot(c)\n"
   ]
  },
  {
   "cell_type": "code",
   "execution_count": 10,
   "metadata": {},
   "outputs": [],
   "source": [
    "# Some basic statistical functions\n",
    "# Use axis=0 or axis=1 for row or column wise operations\n",
    "a = np.array([[1,2,5],[7,1,3]])\n",
    "# Summation\n",
    "sum1 = a.sum()\n",
    "sum2 = np.sum(a)\n",
    "\n",
    "# Column wise summation\n",
    "summ1row = a.sum(axis=0) # column wise\n",
    "summ1row = a.sum(axis=1) # row wise\n",
    "\n",
    "# Maximum\n",
    "maxi = a.max()\n",
    "\n",
    "# Mean (column wise)\n",
    "average = np.mean(a, axis=0)\n",
    "\n",
    "# Std\n",
    "std = np.std(a)"
   ]
  },
  {
   "cell_type": "code",
   "execution_count": 11,
   "metadata": {},
   "outputs": [],
   "source": [
    "a = np.array([[1,2,5],[7,1,3]])\n",
    "b = np.array([[7,8,9],[10,11,12]])\n",
    "\n",
    "# Transpose\n",
    "aTr1 = np.transpose(a)\n",
    "aTr2 = a.T\n",
    "\n",
    "# Reshape:\n",
    "reshape1 = np.reshape(a,(3,2)) # reshpapres to 3 rows and 2 columns\n",
    "reshape2 = a.reshape(3,2)\n",
    "\n",
    "# reshape to row:\n",
    "reshapeToRow = a.reshape(6)"
   ]
  },
  {
   "cell_type": "code",
   "execution_count": 12,
   "metadata": {},
   "outputs": [
    {
     "name": "stdout",
     "output_type": "stream",
     "text": [
      "[[ 1  2  5  7  8  9]\n",
      " [ 7  1  3 10 11 12]]\n",
      "[[ 1  2  5]\n",
      " [ 7  1  3]\n",
      " [ 7  8  9]\n",
      " [10 11 12]]\n"
     ]
    }
   ],
   "source": [
    "# Stack horizontally - which also seems to me like append\n",
    "horizontal_stack = np.hstack([a,b])\n",
    "print(horizontal_stack)\n",
    "\n",
    "# Stack vertically - which also seems to me like adding new columns\n",
    "vertical_stack = np.vstack([a,b])\n",
    "print(vertical_stack)"
   ]
  },
  {
   "cell_type": "code",
   "execution_count": 13,
   "metadata": {},
   "outputs": [
    {
     "name": "stdout",
     "output_type": "stream",
     "text": [
      "[[ 1  2  5  7  8  9]\n",
      " [ 7  1  3 10 11 12]]\n",
      "[[ 1  2  5]\n",
      " [ 7  1  3]\n",
      " [ 7  8  9]\n",
      " [10 11 12]]\n"
     ]
    }
   ],
   "source": [
    "# Concatenate arrays\n",
    "\n",
    "# Columnwise (looks to be like horizontal stack)\n",
    "ab = np.concatenate((a,b), axis=1)\n",
    "print(ab)\n",
    "\n",
    "# Rowwise (looks to be similar to the vertical stack)\n",
    "ab = np.concatenate((a,b), axis=0)\n",
    "print(ab)"
   ]
  },
  {
   "cell_type": "code",
   "execution_count": 14,
   "metadata": {},
   "outputs": [],
   "source": [
    "# Save an array to a binary file (.npy)\n",
    "np.save('Data/array_a',ab)\n",
    "\n",
    "# or save several in one to an .npz file\n",
    "np.savez('Data/arrays_abab',arr1=a,arr2=b)\n",
    "\n",
    "# then you can load again\n",
    "ab_reload = np.load('Data/array_a.npy')\n",
    "contents = np.load('Data/arrays_abab.npz')\n",
    "a_reload = contents[\"arr1\"]\n",
    "b_reload = contents[\"arr2\"]\n"
   ]
  },
  {
   "cell_type": "code",
   "execution_count": 15,
   "metadata": {},
   "outputs": [
    {
     "name": "stdout",
     "output_type": "stream",
     "text": [
      "[[1 2 5]\n",
      " [7 1 3]]\n",
      "6\n"
     ]
    },
    {
     "ename": "ValueError",
     "evalue": "all the input array dimensions for the concatenation axis must match exactly, but along dimension 1, the array at index 0 has size 2 and the array at index 1 has size 3",
     "output_type": "error",
     "traceback": [
      "\u001b[0;31m---------------------------------------------------------------------------\u001b[0m",
      "\u001b[0;31mValueError\u001b[0m                                Traceback (most recent call last)",
      "Cell \u001b[0;32mIn [15], line 9\u001b[0m\n\u001b[1;32m      6\u001b[0m col_header \u001b[39m=\u001b[39m [\u001b[39m\"\u001b[39m\u001b[39ma\u001b[39m\u001b[39m\"\u001b[39m,\u001b[39m\"\u001b[39m\u001b[39mb\u001b[39m\u001b[39m\"\u001b[39m,\u001b[39m\"\u001b[39m\u001b[39mc\u001b[39m\u001b[39m\"\u001b[39m]\n\u001b[1;32m      7\u001b[0m row_header \u001b[39m=\u001b[39m [\u001b[39m\"\u001b[39m\u001b[39mz\u001b[39m\u001b[39m\"\u001b[39m,\u001b[39m\"\u001b[39m\u001b[39my\u001b[39m\u001b[39m\"\u001b[39m]\n\u001b[0;32m----> 9\u001b[0m np\u001b[39m.\u001b[39mvstack((row_header,a)) \u001b[39m# Can use this to add a column header\u001b[39;00m\n\u001b[1;32m     10\u001b[0m np\u001b[39m.\u001b[39mhstack((col_header,a)) \u001b[39m# Can use this to add row headers\u001b[39;00m\n\u001b[1;32m     11\u001b[0m np\u001b[39m.\u001b[39msavetxt(\u001b[39m\"\u001b[39m\u001b[39mmy_a_file.csv\u001b[39m\u001b[39m\"\u001b[39m,a,delimiter\u001b[39m=\u001b[39m\u001b[39m\"\u001b[39m\u001b[39m,\u001b[39m\u001b[39m\"\u001b[39m,fmt\u001b[39m=\u001b[39m\u001b[39m\"\u001b[39m\u001b[39m%s\u001b[39;00m\u001b[39m\"\u001b[39m) \u001b[39m# %d specifies an integer and %s specifies a string\u001b[39;00m\n",
      "File \u001b[0;32m<__array_function__ internals>:180\u001b[0m, in \u001b[0;36mvstack\u001b[0;34m(*args, **kwargs)\u001b[0m\n",
      "File \u001b[0;32m/Library/Frameworks/Python.framework/Versions/3.10/lib/python3.10/site-packages/numpy/core/shape_base.py:282\u001b[0m, in \u001b[0;36mvstack\u001b[0;34m(tup)\u001b[0m\n\u001b[1;32m    280\u001b[0m \u001b[39mif\u001b[39;00m \u001b[39mnot\u001b[39;00m \u001b[39misinstance\u001b[39m(arrs, \u001b[39mlist\u001b[39m):\n\u001b[1;32m    281\u001b[0m     arrs \u001b[39m=\u001b[39m [arrs]\n\u001b[0;32m--> 282\u001b[0m \u001b[39mreturn\u001b[39;00m _nx\u001b[39m.\u001b[39;49mconcatenate(arrs, \u001b[39m0\u001b[39;49m)\n",
      "File \u001b[0;32m<__array_function__ internals>:180\u001b[0m, in \u001b[0;36mconcatenate\u001b[0;34m(*args, **kwargs)\u001b[0m\n",
      "\u001b[0;31mValueError\u001b[0m: all the input array dimensions for the concatenation axis must match exactly, but along dimension 1, the array at index 0 has size 2 and the array at index 1 has size 3"
     ]
    }
   ],
   "source": [
    "# Export array a to csv\n",
    "print(a)\n",
    "print(a.size)\n",
    "np.around(a,1) #rounding to 1 dp\n",
    "np.char.mod(\"%.1f\",a) # storing as a string\n",
    "col_header = [\"a\",\"b\",\"c\"]\n",
    "row_header = [\"z\",\"y\"]\n",
    "\n",
    "np.vstack((row_header,a)) # Can use this to add a column header\n",
    "np.hstack((col_header,a)) # Can use this to add row headers\n",
    "np.savetxt(\"Data/my_a_file.csv\",a,delimiter=\",\",fmt=\"%s\") # %d specifies an integer and %s specifies a string\n",
    "\n",
    "# Loading array a from csv\n",
    "csv = np.loadtxt(\"Data/my_a_file.csv\", delimiter = ',') # This doesn't work because there are strings not numbers in there\n",
    "\n",
    "print(csv)"
   ]
  }
 ],
 "metadata": {
  "kernelspec": {
   "display_name": "Python 3.11.0 64-bit",
   "language": "python",
   "name": "python3"
  },
  "language_info": {
   "codemirror_mode": {
    "name": "ipython",
    "version": 3
   },
   "file_extension": ".py",
   "mimetype": "text/x-python",
   "name": "python",
   "nbconvert_exporter": "python",
   "pygments_lexer": "ipython3",
   "version": "3.11.0"
  },
  "orig_nbformat": 4,
  "vscode": {
   "interpreter": {
    "hash": "949777d72b0d2535278d3dc13498b2535136f6dfe0678499012e853ee9abcab1"
   }
  }
 },
 "nbformat": 4,
 "nbformat_minor": 2
}
