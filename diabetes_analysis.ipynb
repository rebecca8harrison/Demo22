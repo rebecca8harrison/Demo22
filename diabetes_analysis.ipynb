{
 "cells": [
  {
   "cell_type": "markdown",
   "metadata": {},
   "source": []
  },
  {
   "cell_type": "code",
   "execution_count": 21,
   "metadata": {},
   "outputs": [
    {
     "name": "stdout",
     "output_type": "stream",
     "text": [
      "[[  6.    148.     72.    ...  33.6     0.627  50.   ]\n",
      " [  1.     85.     66.    ...  26.6     0.351  31.   ]\n",
      " [  8.    183.     64.    ...  23.3     0.672  32.   ]\n",
      " ...\n",
      " [  5.    121.     72.    ...  26.2     0.245  30.   ]\n",
      " [  1.    126.     60.    ...  30.1     0.349  47.   ]\n",
      " [  1.     93.     70.    ...  30.4     0.315  23.   ]]\n"
     ]
    }
   ],
   "source": [
    "import numpy as np\n",
    "\n",
    "#Import the diabetes dataset\n",
    "#data = np.genfromtxt(\"diabetes.csv\", dtype=float, delimiter=',', names=True) \n",
    "\n",
    "\n",
    "#Import the Iris dataset\n",
    "dataRaw = np.loadtxt(\"diabetes.csv\",delimiter=',', dtype='object')\n",
    "# Get the header (first row)\n",
    "header = dataRaw[0,:]\n",
    "\n",
    "data = dataRaw[1:,:8] # Get the data (second row till end; 1-4th columns). \n",
    "\n",
    "data = np.vstack(data.astype(np.float32)) # Convert them to float\n",
    "print(data)\n",
    "\n",
    "# Get the labels (second row; 4th columns)\n",
    "labels = np.vstack(dataRaw[1:,8].astype(np.int32))\n",
    "#print(labels)"
   ]
  },
  {
   "cell_type": "code",
   "execution_count": 22,
   "metadata": {},
   "outputs": [
    {
     "name": "stdout",
     "output_type": "stream",
     "text": [
      "[['Pregnancies' 'Glucose' 'BloodPressure' ... 'DiabetesPedigreeFunction'\n",
      "  'Age' 'Outcome']\n",
      " ['6' '148' '72' ... '0.627' '50' '1']\n",
      " ['1' '85' '66' ... '0.351' '31' '0']\n",
      " ...\n",
      " ['5' '121' '72' ... '0.245' '30' '0']\n",
      " ['1' '126' '60' ... '0.349' '47' '1']\n",
      " ['1' '93' '70' ... '0.315' '23' '0']]\n"
     ]
    }
   ],
   "source": [
    "print(dataRaw)"
   ]
  },
  {
   "cell_type": "code",
   "execution_count": 23,
   "metadata": {},
   "outputs": [
    {
     "name": "stdout",
     "output_type": "stream",
     "text": [
      "[0 1] [500 268]\n"
     ]
    }
   ],
   "source": [
    "# find unique labels and frequency\n",
    "labelsUn,labelsCounts = np.unique(labels,return_counts=True)\n",
    "print(labelsUn,labelsCounts)"
   ]
  },
  {
   "cell_type": "code",
   "execution_count": 25,
   "metadata": {},
   "outputs": [
    {
     "name": "stdout",
     "output_type": "stream",
     "text": [
      "768\n",
      "8\n",
      "2\n",
      "[[  4.86567163 141.25746155  70.82462311  22.16417885 100.33582306\n",
      "   35.14253235   0.55049992  37.06716537]\n",
      " [  3.2980001  109.98000336  68.18399811  19.66399956  68.79199982\n",
      "   30.30418587   0.42973423  31.19000053]]\n",
      "[[ 17.         199.         114.          99.         846.\n",
      "   67.09999847   2.42000008  70.        ]\n",
      " [ 13.         197.         122.          60.         744.\n",
      "   57.29999924   2.329       81.        ]]\n",
      "[[ 0.     0.     0.     0.     0.     0.     0.088 21.   ]\n",
      " [ 0.     0.     0.     0.     0.     0.     0.078 21.   ]]\n",
      "[[  3.7342515   31.87997818  21.45167542  17.64668655 138.43019104\n",
      "    7.24940491   0.3716591   10.94777298]\n",
      " [  3.01416397  26.11504173  18.0450058   14.87504959  98.7663269\n",
      "    7.68216181   0.29878604  11.6559782 ]]\n"
     ]
    }
   ],
   "source": [
    "# count the number of rows and columns\n",
    "nrows,ncols = np.shape(data)\n",
    "print(nrows)\n",
    "print(ncols)\n",
    "\n",
    "nclasses = len(labelsUn) # number of unique categories\n",
    "print(nclasses)\n",
    "\n",
    "# Setting up empty arrays for the analysis\n",
    "average = np.zeros((nclasses,ncols))\n",
    "maxi = np.zeros((nclasses,ncols))\n",
    "mini = np.zeros((nclasses, ncols))\n",
    "sd = np.zeros((nclasses,ncols))\n",
    "\n",
    "# populating the arrays with the average, max, min and standard deviation\n",
    "for i in labelsUn:\n",
    "    indexes = np.reshape(labels==i,nrows)\n",
    "    average[i-1,:] = np.mean(data[indexes,:],axis=0)\n",
    "    maxi[i-1,:] = np.max(data[indexes,:],axis=0)\n",
    "    mini[i-1,:] = np.min(data[indexes,:],axis=0)\n",
    "    sd[i-1,:] = np.std(data[indexes,:],axis=0)\n",
    "\n",
    "\n",
    "print(average)\n",
    "print(maxi)\n",
    "print(mini)\n",
    "print(sd)"
   ]
  },
  {
   "cell_type": "code",
   "execution_count": 26,
   "metadata": {},
   "outputs": [],
   "source": [
    "# Find outliers per class and feature based on the formula mean+-2*sd\n",
    "# More optimal ways are available but let's do it with nested for loops for revision\n",
    "\n",
    "outliers2sd = np.zeros((nclasses,ncols))\n",
    "for i in labelsUn:\n",
    "    indexes = np.reshape(labels==i,nrows)\n",
    "    classData = data[indexes,:]\n",
    "    for j in range(ncols):\n",
    "        thresholdLow = average[i-1,j]-2*sd[i-1,j]\n",
    "        thresholdHigh = average[i-1,j]+2*sd[i-1,j]\n",
    "        remain = [x for x in classData[:,j] if(x > thresholdLow)]\n",
    "        remain = [x for x in classData[:,j] if(x < thresholdHigh)]\n",
    "        outliers2sd[i-1,j] = 100 * (labelsCounts[i-1] - len(remain)) / labelsCounts[i-1]"
   ]
  },
  {
   "cell_type": "code",
   "execution_count": 29,
   "metadata": {},
   "outputs": [],
   "source": [
    "# Export to .csv file\n",
    "decimals = 2\n",
    "fmt = \"%.2f\"\n",
    "formatf = \".csv\"\n",
    "outcome = np.array(['diabetes','no_diabetes'])\n",
    "for i in range(len(labelsUn)):\n",
    "    temp = np.vstack([average[i,:], mini[i,:],maxi[i,:],sd[i,:],outliers2sd[i,:]]).T\n",
    "    temp = np.around(temp,decimals)\n",
    "    temp_str = np.char.mod(fmt,temp)\n",
    "    rows = np.array(header[:-1].astype(\"U\"))[:,np.newaxis]\n",
    "    rowsf = np.hstack((rows, temp_str))\n",
    "    headerf = [outcome[i], 'mean','min','max','std','outliers2sd%']\n",
    "    np.savetxt(outcome[i]+formatf,np.vstack((headerf,rowsf)),delimiter=',',fmt='%s')"
   ]
  },
  {
   "cell_type": "code",
   "execution_count": null,
   "metadata": {},
   "outputs": [],
   "source": []
  }
 ],
 "metadata": {
  "kernelspec": {
   "display_name": "Python 3.10.7 64-bit",
   "language": "python",
   "name": "python3"
  },
  "language_info": {
   "codemirror_mode": {
    "name": "ipython",
    "version": 3
   },
   "file_extension": ".py",
   "mimetype": "text/x-python",
   "name": "python",
   "nbconvert_exporter": "python",
   "pygments_lexer": "ipython3",
   "version": "3.10.7"
  },
  "orig_nbformat": 4,
  "vscode": {
   "interpreter": {
    "hash": "aee8b7b246df8f9039afb4144a1f6fd8d2ca17a180786b69acc140d282b71a49"
   }
  }
 },
 "nbformat": 4,
 "nbformat_minor": 2
}
