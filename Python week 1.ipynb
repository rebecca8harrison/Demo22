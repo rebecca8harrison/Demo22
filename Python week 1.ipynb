{
 "cells": [
  {
   "cell_type": "code",
   "execution_count": null,
   "metadata": {},
   "outputs": [
    {
     "name": "stdout",
     "output_type": "stream",
     "text": [
      "Hello World\n",
      "300\n"
     ]
    }
   ],
   "source": [
    "print(\"Hello World\")\n",
    "\n",
    "number1 = 100\n",
    "number2 = 200\n",
    "total = 100 + 200\n",
    "\n",
    "print(total)"
   ]
  },
  {
   "cell_type": "code",
   "execution_count": 5,
   "metadata": {},
   "outputs": [
    {
     "name": "stdout",
     "output_type": "stream",
     "text": [
      "11\n"
     ]
    }
   ],
   "source": [
    "number1 = int(input(\"what is the first number\"))\n",
    "\n",
    "number2 = int(input(\"what is the second number\"))\n",
    "\n",
    "\n",
    "print(number1 + number2)\n"
   ]
  },
  {
   "cell_type": "code",
   "execution_count": 8,
   "metadata": {},
   "outputs": [
    {
     "name": "stdout",
     "output_type": "stream",
     "text": [
      "2\n"
     ]
    }
   ],
   "source": [
    "number1 = 12\n",
    "number2 = 5\n",
    "\n",
    "print(number1 % number2)"
   ]
  },
  {
   "cell_type": "code",
   "execution_count": 11,
   "metadata": {},
   "outputs": [
    {
     "name": "stdout",
     "output_type": "stream",
     "text": [
      "23\n",
      "True\n",
      "43\n",
      "False\n"
     ]
    }
   ],
   "source": [
    "x = 23\n",
    "print(x)\n",
    "print(x == 23) # check if true or false\n",
    "x += 20 ## This is adding 20 to x\n",
    "print(x)\n",
    "\n",
    "print(x == 23) # check if true or false"
   ]
  },
  {
   "cell_type": "code",
   "execution_count": 14,
   "metadata": {},
   "outputs": [
    {
     "name": "stdout",
     "output_type": "stream",
     "text": [
      "Its not a match\n"
     ]
    }
   ],
   "source": [
    "if x == 23:\n",
    "    print(\"Its a match\")\n",
    "else:\n",
    "    print(\"Its not a match\")\n",
    "\n"
   ]
  },
  {
   "cell_type": "code",
   "execution_count": 20,
   "metadata": {},
   "outputs": [
    {
     "name": "stdout",
     "output_type": "stream",
     "text": [
      "X is 5 Y is 6\n",
      "Y is bigger than x\n"
     ]
    }
   ],
   "source": [
    "x = int(input(\"Type in number X\"))\n",
    "y = int(input(\"Type in number y\"))\n",
    "if x > y:\n",
    "    print(\"X is\", x ,\"Y is\", y)\n",
    "    print(\"X is bigger than y\")\n",
    "if x < y:\n",
    "    print(\"X is\", x ,\"Y is\", y)\n",
    "    print(\"Y is bigger than x\")\n",
    "if x == y:\n",
    "    print(\"X is\", x ,\"Y is\", y)\n",
    "    print(\"Y and X are the same\")"
   ]
  },
  {
   "cell_type": "code",
   "execution_count": 32,
   "metadata": {},
   "outputs": [
    {
     "name": "stdout",
     "output_type": "stream",
     "text": [
      "You get a discount and will pay £ 2.5\n"
     ]
    }
   ],
   "source": [
    "age = int(input(\"What is your age?\"))\n",
    "\n",
    "if age < 20 or age >65:\n",
    "    print(\"Swimming is free for you\")\n",
    "    price=0\n",
    "else: \n",
    "    swimcard = input(\"Do you have a swim card? Type y or n\")\n",
    "    if swimcard==\"y\" or swimcard == \"yes\" or swimcard == \"Yes\" or swimcard == \"Y\":\n",
    "        price=2.5\n",
    "        print(\"You get a discount and will pay £\",price)\n",
    "    else:\n",
    "        price=5\n",
    "        print(\"You will pay full price at £\",price)\n"
   ]
  },
  {
   "cell_type": "code",
   "execution_count": 1,
   "metadata": {},
   "outputs": [
    {
     "name": "stdout",
     "output_type": "stream",
     "text": [
      "0\n",
      "1\n",
      "2\n",
      "3\n",
      "4\n",
      "5\n",
      "6\n",
      "7\n",
      "8\n",
      "9\n"
     ]
    }
   ],
   "source": [
    "for interator in range(10):\n",
    "    print(interator)"
   ]
  },
  {
   "cell_type": "code",
   "execution_count": 2,
   "metadata": {},
   "outputs": [
    {
     "name": "stdout",
     "output_type": "stream",
     "text": [
      "2\n",
      "4\n",
      "6\n",
      "8\n"
     ]
    }
   ],
   "source": [
    "for interator in range(2,10, 2): # From range 2 to 10 in leaps of 2\n",
    "    print(interator)"
   ]
  },
  {
   "cell_type": "code",
   "execution_count": 8,
   "metadata": {},
   "outputs": [
    {
     "name": "stdout",
     "output_type": "stream",
     "text": [
      "1 Hi\n",
      "2 Hi\n",
      "3 Hi\n",
      "4 Hi\n",
      "5 Hi\n",
      "6 Hi\n",
      "7 Hi\n"
     ]
    }
   ],
   "source": [
    "text = input(\"What is your message?\")\n",
    "number = int(input(\"How many times do you want it to be repeated?\"))\n",
    "\n",
    "\n",
    "for count in range(0,number):\n",
    "    print(str(count+1),text) "
   ]
  },
  {
   "cell_type": "code",
   "execution_count": 10,
   "metadata": {},
   "outputs": [
    {
     "name": "stdout",
     "output_type": "stream",
     "text": [
      "1  x  7  =  7\n",
      "2  x  7  =  14\n",
      "3  x  7  =  21\n",
      "4  x  7  =  28\n",
      "5  x  7  =  35\n",
      "6  x  7  =  42\n",
      "7  x  7  =  49\n",
      "8  x  7  =  56\n",
      "9  x  7  =  63\n",
      "10  x  7  =  70\n",
      "11  x  7  =  77\n",
      "12  x  7  =  84\n"
     ]
    }
   ],
   "source": [
    "times_table = int(input(\"Which times table would you like to print?\"))\n",
    "\n",
    "for table in range(1,13):\n",
    "    print(table,\" x \",times_table,\" = \",table*times_table)"
   ]
  },
  {
   "cell_type": "code",
   "execution_count": 36,
   "metadata": {},
   "outputs": [
    {
     "name": "stdout",
     "output_type": "stream",
     "text": [
      "The 1 times table\n",
      "1  x  1  =  1\n",
      "2  x  1  =  2\n",
      "3  x  1  =  3\n",
      "4  x  1  =  4\n",
      "5  x  1  =  5\n",
      "6  x  1  =  6\n",
      "7  x  1  =  7\n",
      "8  x  1  =  8\n",
      "9  x  1  =  9\n",
      "10  x  1  =  10\n",
      "11  x  1  =  11\n",
      "12  x  1  =  12\n",
      "The 2 times table\n",
      "1  x  2  =  2\n",
      "2  x  2  =  4\n",
      "3  x  2  =  6\n",
      "4  x  2  =  8\n",
      "5  x  2  =  10\n",
      "6  x  2  =  12\n",
      "7  x  2  =  14\n",
      "8  x  2  =  16\n",
      "9  x  2  =  18\n",
      "10  x  2  =  20\n",
      "11  x  2  =  22\n",
      "12  x  2  =  24\n",
      "The 3 times table\n",
      "1  x  3  =  3\n",
      "2  x  3  =  6\n",
      "3  x  3  =  9\n",
      "4  x  3  =  12\n",
      "5  x  3  =  15\n",
      "6  x  3  =  18\n",
      "7  x  3  =  21\n",
      "8  x  3  =  24\n",
      "9  x  3  =  27\n",
      "10  x  3  =  30\n",
      "11  x  3  =  33\n",
      "12  x  3  =  36\n",
      "The 4 times table\n",
      "1  x  4  =  4\n",
      "2  x  4  =  8\n",
      "3  x  4  =  12\n",
      "4  x  4  =  16\n",
      "5  x  4  =  20\n",
      "6  x  4  =  24\n",
      "7  x  4  =  28\n",
      "8  x  4  =  32\n",
      "9  x  4  =  36\n",
      "10  x  4  =  40\n",
      "11  x  4  =  44\n",
      "12  x  4  =  48\n",
      "The 5 times table\n",
      "1  x  5  =  5\n",
      "2  x  5  =  10\n",
      "3  x  5  =  15\n",
      "4  x  5  =  20\n",
      "5  x  5  =  25\n",
      "6  x  5  =  30\n",
      "7  x  5  =  35\n",
      "8  x  5  =  40\n",
      "9  x  5  =  45\n",
      "10  x  5  =  50\n",
      "11  x  5  =  55\n",
      "12  x  5  =  60\n"
     ]
    }
   ],
   "source": [
    "times_tables = int(input(\"Which times table would you like to print?\"))\n",
    "\n",
    "for times_table in range(1,times_tables):\n",
    "    print(\"The\",times_table,\"times table\")\n",
    "    for table in range(1,13):\n",
    "        print(table,\" x \",times_table,\" = \",table*times_table)"
   ]
  },
  {
   "cell_type": "code",
   "execution_count": null,
   "metadata": {},
   "outputs": [],
   "source": []
  },
  {
   "cell_type": "code",
   "execution_count": 19,
   "metadata": {},
   "outputs": [
    {
     "name": "stdout",
     "output_type": "stream",
     "text": [
      "Correct\n"
     ]
    }
   ],
   "source": [
    "while guess !=\"Rumplestiltskin\":\n",
    "    guess = input(\"Guess my name\")\n",
    "print(\"Correct\")"
   ]
  },
  {
   "cell_type": "code",
   "execution_count": 17,
   "metadata": {},
   "outputs": [
    {
     "name": "stdout",
     "output_type": "stream",
     "text": [
      "Wrong\n",
      "Wrong\n",
      "Wrong\n",
      "Correct\n"
     ]
    }
   ],
   "source": [
    "while True:\n",
    "    guess = input(\"Guess my name\")\n",
    "    if guess == \"Runplestiltskin\":\n",
    "        print(\"Correct\")\n",
    "        break \n",
    "    print(\"Wrong\")"
   ]
  },
  {
   "cell_type": "code",
   "execution_count": 20,
   "metadata": {},
   "outputs": [
    {
     "name": "stdout",
     "output_type": "stream",
     "text": [
      "Wrong!\n",
      "Correct\n"
     ]
    }
   ],
   "source": [
    "while True:\n",
    "    guess = input(\"Guess my name\")\n",
    "    if guess != \"Rumplestiltskin\":\n",
    "        print(\"Wrong!\")\n",
    "        continue\n",
    "    print(\"Correct\")\n",
    "    break"
   ]
  },
  {
   "cell_type": "code",
   "execution_count": 26,
   "metadata": {},
   "outputs": [
    {
     "name": "stdout",
     "output_type": "stream",
     "text": [
      "Please add more numbers...\n",
      "Please add more numbers...\n",
      "Please add more numbers...\n",
      "Please add more numbers...\n",
      "The total is 26\n",
      "26\n"
     ]
    }
   ],
   "source": [
    "total=0\n",
    "while True:\n",
    "    number = int(input(\"What number would you like to add?\"))\n",
    "    if number != 0:\n",
    "        print(\"Please add more numbers...\")\n",
    "        total+=number\n",
    "        continue\n",
    "    print(\"The total is\",total)\n",
    "    break\n"
   ]
  },
  {
   "cell_type": "code",
   "execution_count": 35,
   "metadata": {},
   "outputs": [
    {
     "name": "stdout",
     "output_type": "stream",
     "text": [
      "Please add more numbers...\n",
      "Please add more numbers...\n",
      "Please add more numbers...\n",
      "Please add more numbers...\n",
      "Please add more numbers...\n",
      "The total is 26\n"
     ]
    }
   ],
   "source": [
    "stop = 0\n",
    "number1 = 1\n",
    "total = 0\n",
    "while number1 != stop:\n",
    "    number1 = int(input(\"What number would you like to add?\"))\n",
    "    print(\"What number would you like to add?\")\n",
    "    total+=number1\n",
    "print(\"The total is\",total)"
   ]
  },
  {
   "cell_type": "code",
   "execution_count": 41,
   "metadata": {},
   "outputs": [
    {
     "name": "stdout",
     "output_type": "stream",
     "text": [
      "Good morning Abayomi\n",
      "Good morning Alejandra\n",
      "Good morning Ayako\n",
      "Good morning Alice\n",
      "Good morning Bhavya\n",
      "Good morning Gabriel\n",
      "Good morning James\n",
      "Good morning Konstantinos\n",
      "Good morning Korrin\n",
      "Good morning Luke\n",
      "Good morning Manaal\n",
      "Good morning Rhianna\n",
      "Good morning Rohaida\n",
      "Good morning Ryan\n",
      "Good morning Vincent\n"
     ]
    }
   ],
   "source": [
    "class_list = ['Abayomi','Alejandra','Ayako','Alice','Bhavya','Colin','Gabriel','Ilana','James','Konstantinos','Korrin','Luke','Manaal','Rhianna', 'Rohaida','Ryan','Samantha','Vincent']\n",
    "for person in class_list:\n",
    "    print(\"Good morning\",person)"
   ]
  },
  {
   "cell_type": "code",
   "execution_count": 49,
   "metadata": {},
   "outputs": [],
   "source": [
    "def kg_lb(amount):\n",
    "    amount+=amount/2.2\n",
    "    return(amount)\n",
    "\n"
   ]
  },
  {
   "cell_type": "code",
   "execution_count": 50,
   "metadata": {},
   "outputs": [
    {
     "name": "stdout",
     "output_type": "stream",
     "text": [
      "16.0\n"
     ]
    }
   ],
   "source": [
    "lbs = kg_lb(5)\n",
    "print(lbs)"
   ]
  },
  {
   "cell_type": "code",
   "execution_count": 55,
   "metadata": {},
   "outputs": [],
   "source": [
    "def degrees_celsius(fahrenheit):\n",
    "    celsius=(fahrenheit-32)*(5/9)\n",
    "    return(celsius)"
   ]
  },
  {
   "cell_type": "code",
   "execution_count": 59,
   "metadata": {},
   "outputs": [
    {
     "name": "stdout",
     "output_type": "stream",
     "text": [
      "48.88888888888889\n"
     ]
    }
   ],
   "source": [
    "celsius=degrees_celsius(120)\n",
    "print(celsius)"
   ]
  },
  {
   "cell_type": "code",
   "execution_count": 68,
   "metadata": {},
   "outputs": [
    {
     "name": "stdout",
     "output_type": "stream",
     "text": [
      "['Ferrari', 'Volvo', 'Ford']\n",
      "3\n",
      "['Volvo', 'Ford']\n",
      "2\n",
      "['Ford', 'Volvo']\n"
     ]
    },
    {
     "data": {
      "text/plain": [
       "1"
      ]
     },
     "execution_count": 68,
     "metadata": {},
     "output_type": "execute_result"
    }
   ],
   "source": [
    "cars = ['Ferrari','Volvo',\"Ford\"]\n",
    "print(cars)\n",
    "print(len(cars))\n",
    "cars.remove('Ferrari')\n",
    "print(cars)\n",
    "print(len(cars))\n",
    "cars.sort()\n",
    "print(cars)\n",
    "cars.count('Volvo')\n",
    "\n"
   ]
  },
  {
   "cell_type": "code",
   "execution_count": 85,
   "metadata": {},
   "outputs": [
    {
     "name": "stdout",
     "output_type": "stream",
     "text": [
      "[56, 47, 345, 45, 24, 75, 45, 364, 345, 876]\n",
      "2222\n",
      "222.2\n"
     ]
    }
   ],
   "source": [
    "list1 = []\n",
    "for number in range(0,10):\n",
    "    list1.append(int(input('Type in a list of 10 number...')))\n",
    "total=sum(list1)\n",
    "mean= total/len(list1)\n",
    "\n",
    "print(list1)\n",
    "print(total)\n",
    "print(mean)       \n",
    "    \n",
    "        "
   ]
  },
  {
   "cell_type": "code",
   "execution_count": 86,
   "metadata": {},
   "outputs": [
    {
     "name": "stdout",
     "output_type": "stream",
     "text": [
      "56 is below average\n",
      "47 is below average\n",
      "345 is above average\n",
      "45 is below average\n",
      "24 is below average\n",
      "75 is below average\n",
      "45 is below average\n",
      "364 is above average\n",
      "345 is above average\n",
      "876 is above average\n"
     ]
    }
   ],
   "source": [
    "\n",
    "for i in list1:\n",
    "    if i > mean:\n",
    "        print(i,\"is above average\")\n",
    "    elif i == mean:\n",
    "        print(i,\"is equal to the average\")\n",
    "    else:\n",
    "        print(i,\"is below average\")\n",
    "       \n"
   ]
  },
  {
   "cell_type": "code",
   "execution_count": 90,
   "metadata": {},
   "outputs": [
    {
     "name": "stdout",
     "output_type": "stream",
     "text": [
      "1\n",
      "\n",
      "2\n",
      "\n",
      "3\n",
      "\n",
      "\n",
      "\n",
      "4\n",
      "\n",
      "5\n",
      "\n",
      "6\n",
      "\n",
      "7\n"
     ]
    }
   ],
   "source": [
    "### Reading text from a .txt file\n",
    "with open('test.txt', 'r') as file:\n",
    "    for line in file:\n",
    "        print(line)"
   ]
  },
  {
   "cell_type": "code",
   "execution_count": 104,
   "metadata": {},
   "outputs": [
    {
     "ename": "IndexError",
     "evalue": "list index out of range",
     "output_type": "error",
     "traceback": [
      "\u001b[0;31m---------------------------------------------------------------------------\u001b[0m",
      "\u001b[0;31mIndexError\u001b[0m                                Traceback (most recent call last)",
      "\u001b[0;32m<ipython-input-104-e553887d4cd8>\u001b[0m in \u001b[0;36m<module>\u001b[0;34m\u001b[0m\n\u001b[1;32m      2\u001b[0m     \u001b[0;32mfor\u001b[0m \u001b[0mline\u001b[0m \u001b[0;32min\u001b[0m \u001b[0mfile\u001b[0m\u001b[0;34m:\u001b[0m\u001b[0;34m\u001b[0m\u001b[0;34m\u001b[0m\u001b[0m\n\u001b[1;32m      3\u001b[0m         \u001b[0mline\u001b[0m \u001b[0;34m=\u001b[0m \u001b[0mline\u001b[0m\u001b[0;34m.\u001b[0m\u001b[0msplit\u001b[0m\u001b[0;34m(\u001b[0m\u001b[0;34m','\u001b[0m\u001b[0;34m)\u001b[0m\u001b[0;34m\u001b[0m\u001b[0;34m\u001b[0m\u001b[0m\n\u001b[0;32m----> 4\u001b[0;31m         \u001b[0mprint\u001b[0m\u001b[0;34m(\u001b[0m\u001b[0mline\u001b[0m\u001b[0;34m[\u001b[0m\u001b[0;36m1\u001b[0m\u001b[0;34m]\u001b[0m\u001b[0;34m.\u001b[0m\u001b[0mrstrip\u001b[0m\u001b[0;34m(\u001b[0m\u001b[0;34m)\u001b[0m\u001b[0;34m,\u001b[0m \u001b[0mline\u001b[0m\u001b[0;34m[\u001b[0m\u001b[0;36m0\u001b[0m\u001b[0;34m]\u001b[0m\u001b[0;34m)\u001b[0m\u001b[0;34m\u001b[0m\u001b[0;34m\u001b[0m\u001b[0m\n\u001b[0m",
      "\u001b[0;31mIndexError\u001b[0m: list index out of range"
     ]
    }
   ],
   "source": [
    "with open('test.txt','r') as file:\n",
    "    for line in file: \n",
    "        line = line.split(',')\n",
    "        print(line[1].rstrip(), line[0])"
   ]
  },
  {
   "cell_type": "code",
   "execution_count": null,
   "metadata": {},
   "outputs": [],
   "source": []
  },
  {
   "cell_type": "code",
   "execution_count": 93,
   "metadata": {},
   "outputs": [],
   "source": [
    "def save_to_file(name,age,form):\n",
    "    with open('new_data.txt', 'w') as file:\n",
    "        line = ','.join([name,age,form])\n",
    "        file.write(line + '\\n')\n",
    "\n",
    "first_name=input('Enter your first name')\n",
    "surname=input('Enter your surname')\n",
    "age = input('Enter your age')\n",
    "save_to_file(surname,first_name,age)"
   ]
  },
  {
   "cell_type": "code",
   "execution_count": 94,
   "metadata": {},
   "outputs": [],
   "source": [
    "import csv"
   ]
  },
  {
   "cell_type": "code",
   "execution_count": 96,
   "metadata": {},
   "outputs": [
    {
     "ename": "FileNotFoundError",
     "evalue": "[Errno 2] No such file or directory: 'csvdata.csv'",
     "output_type": "error",
     "traceback": [
      "\u001b[0;31m---------------------------------------------------------------------------\u001b[0m",
      "\u001b[0;31mFileNotFoundError\u001b[0m                         Traceback (most recent call last)",
      "\u001b[0;32m<ipython-input-96-11be12709df5>\u001b[0m in \u001b[0;36m<module>\u001b[0;34m\u001b[0m\n\u001b[0;32m----> 1\u001b[0;31m \u001b[0;32mwith\u001b[0m \u001b[0mopen\u001b[0m\u001b[0;34m(\u001b[0m\u001b[0;34m'csvdata.csv'\u001b[0m\u001b[0;34m,\u001b[0m\u001b[0;34m'r'\u001b[0m\u001b[0;34m)\u001b[0m \u001b[0;32mas\u001b[0m \u001b[0mcsvfile\u001b[0m\u001b[0;34m:\u001b[0m\u001b[0;34m\u001b[0m\u001b[0;34m\u001b[0m\u001b[0m\n\u001b[0m\u001b[1;32m      2\u001b[0m     \u001b[0mread\u001b[0m \u001b[0;34m=\u001b[0m \u001b[0mcsv\u001b[0m\u001b[0;34m.\u001b[0m\u001b[0mread\u001b[0m\u001b[0;34m(\u001b[0m\u001b[0mcsvfile\u001b[0m\u001b[0;34m)\u001b[0m\u001b[0;34m\u001b[0m\u001b[0;34m\u001b[0m\u001b[0m\n\u001b[1;32m      3\u001b[0m     \u001b[0;32mfor\u001b[0m \u001b[0mline\u001b[0m \u001b[0;32min\u001b[0m \u001b[0mreader\u001b[0m\u001b[0;34m:\u001b[0m\u001b[0;34m\u001b[0m\u001b[0;34m\u001b[0m\u001b[0m\n\u001b[1;32m      4\u001b[0m         \u001b[0mprint\u001b[0m\u001b[0;34m(\u001b[0m\u001b[0mline\u001b[0m\u001b[0;34m[\u001b[0m\u001b[0;36m1\u001b[0m\u001b[0;34m]\u001b[0m\u001b[0;34m,\u001b[0m\u001b[0mline\u001b[0m\u001b[0;34m[\u001b[0m\u001b[0;36m0\u001b[0m\u001b[0;34m]\u001b[0m\u001b[0;34m)\u001b[0m\u001b[0;34m\u001b[0m\u001b[0;34m\u001b[0m\u001b[0m\n",
      "\u001b[0;31mFileNotFoundError\u001b[0m: [Errno 2] No such file or directory: 'csvdata.csv'"
     ]
    }
   ],
   "source": [
    "with open('csvdata.csv','r') as csvfile:\n",
    "    read = csv.read(csvfile)\n",
    "    for line in reader:\n",
    "        print(line[1],line[0])"
   ]
  },
  {
   "cell_type": "code",
   "execution_count": 143,
   "metadata": {},
   "outputs": [
    {
     "name": "stdout",
     "output_type": "stream",
     "text": [
      "<_io.TextIOWrapper name='names.csv' mode='a' encoding='UTF-8'>\n"
     ]
    }
   ],
   "source": [
    "with open('names.csv',mode='a') as csv_file:\n",
    "    character_writer = csv.writer(csv_file,delimiter=',', quotechar='\"', quoting=csv.QUOTE_MINIMAL)\n",
    "\n",
    "    character_writer.writerow(['Margo','Gru'])\n",
    "    character_writer.writerow(['Edith','Gru'])\n",
    "    character_writer.writerow(['Agnes','Gru'])\n",
    "\n",
    "    print(csv_file)"
   ]
  },
  {
   "cell_type": "code",
   "execution_count": 142,
   "metadata": {},
   "outputs": [],
   "source": [
    "\n",
    "\n",
    "def save_to_file(first_name,surname,answer): #creating the function to write and add a column to a txt file\n",
    "    with open('names.txt','w') as file:\n",
    "        line = ','.join([first_name,surname,answer])\n",
    "        file.write(line + '\\n')    "
   ]
  },
  {
   "cell_type": "code",
   "execution_count": 144,
   "metadata": {},
   "outputs": [
    {
     "name": "stdout",
     "output_type": "stream",
     "text": [
      "<_io.TextIOWrapper name='names.csv' mode='a' encoding='UTF-8'>\n"
     ]
    },
    {
     "ename": "ValueError",
     "evalue": "I/O operation on closed file.",
     "output_type": "error",
     "traceback": [
      "\u001b[0;31m---------------------------------------------------------------------------\u001b[0m",
      "\u001b[0;31mValueError\u001b[0m                                Traceback (most recent call last)",
      "\u001b[0;32m<ipython-input-144-5899ae92dc67>\u001b[0m in \u001b[0;36m<module>\u001b[0;34m\u001b[0m\n\u001b[1;32m      8\u001b[0m     \u001b[0mprint\u001b[0m\u001b[0;34m(\u001b[0m\u001b[0mcsv_file\u001b[0m\u001b[0;34m)\u001b[0m\u001b[0;34m\u001b[0m\u001b[0;34m\u001b[0m\u001b[0m\n\u001b[1;32m      9\u001b[0m \u001b[0;34m\u001b[0m\u001b[0m\n\u001b[0;32m---> 10\u001b[0;31m     \u001b[0;32mfor\u001b[0m \u001b[0mline\u001b[0m \u001b[0;32min\u001b[0m \u001b[0mreader\u001b[0m\u001b[0;34m:\u001b[0m\u001b[0;34m\u001b[0m\u001b[0;34m\u001b[0m\u001b[0m\n\u001b[0m\u001b[1;32m     11\u001b[0m \u001b[0;34m\u001b[0m\u001b[0m\n\u001b[1;32m     12\u001b[0m         \u001b[0manswer\u001b[0m \u001b[0;34m=\u001b[0m \u001b[0minput\u001b[0m\u001b[0;34m(\u001b[0m\u001b[0;34m\"Are you in attendance today?\"\u001b[0m\u001b[0;34m)\u001b[0m\u001b[0;34m\u001b[0m\u001b[0;34m\u001b[0m\u001b[0m\n",
      "\u001b[0;31mValueError\u001b[0m: I/O operation on closed file."
     ]
    }
   ],
   "source": [
    "with open('names.csv',mode='a') as csv_file:\n",
    "    character_writer = csv.writer(csv_file,delimiter=',', quotechar='\"', quoting=csv.QUOTE_MINIMAL)\n",
    "\n",
    "    character_writer.writerow(['Margo','Gru'])\n",
    "    character_writer.writerow(['Edith','Gru'])\n",
    "    character_writer.writerow(['Agnes','Gru'])\n",
    "\n",
    "    print(csv_file)\n",
    "    \n",
    "    for line in reader:\n",
    "        \n",
    "        answer = input(\"Are you in attendance today?\")\n",
    "        first_name = line[0]\n",
    "        surname =  line[1]\n",
    "        character_writer.writerow(line[0], line[1],answer)\n",
    "        "
   ]
  },
  {
   "cell_type": "code",
   "execution_count": null,
   "metadata": {},
   "outputs": [],
   "source": []
  },
  {
   "cell_type": "code",
   "execution_count": null,
   "metadata": {},
   "outputs": [],
   "source": []
  },
  {
   "cell_type": "code",
   "execution_count": null,
   "metadata": {},
   "outputs": [],
   "source": []
  },
  {
   "cell_type": "code",
   "execution_count": null,
   "metadata": {},
   "outputs": [],
   "source": []
  },
  {
   "cell_type": "code",
   "execution_count": null,
   "metadata": {},
   "outputs": [],
   "source": []
  },
  {
   "cell_type": "code",
   "execution_count": null,
   "metadata": {},
   "outputs": [],
   "source": []
  },
  {
   "cell_type": "code",
   "execution_count": null,
   "metadata": {},
   "outputs": [],
   "source": [
    "y\n"
   ]
  },
  {
   "cell_type": "code",
   "execution_count": null,
   "metadata": {},
   "outputs": [],
   "source": []
  },
  {
   "cell_type": "code",
   "execution_count": null,
   "metadata": {},
   "outputs": [],
   "source": []
  },
  {
   "cell_type": "code",
   "execution_count": null,
   "metadata": {},
   "outputs": [],
   "source": []
  },
  {
   "cell_type": "code",
   "execution_count": null,
   "metadata": {},
   "outputs": [],
   "source": []
  },
  {
   "cell_type": "code",
   "execution_count": null,
   "metadata": {},
   "outputs": [],
   "source": []
  },
  {
   "cell_type": "code",
   "execution_count": null,
   "metadata": {},
   "outputs": [],
   "source": []
  },
  {
   "cell_type": "code",
   "execution_count": null,
   "metadata": {},
   "outputs": [],
   "source": []
  },
  {
   "cell_type": "code",
   "execution_count": null,
   "metadata": {},
   "outputs": [],
   "source": []
  },
  {
   "cell_type": "code",
   "execution_count": null,
   "metadata": {},
   "outputs": [],
   "source": []
  },
  {
   "cell_type": "code",
   "execution_count": null,
   "metadata": {},
   "outputs": [],
   "source": [
    "y\n"
   ]
  },
  {
   "cell_type": "code",
   "execution_count": 119,
   "metadata": {},
   "outputs": [
    {
     "name": "stdout",
     "output_type": "stream",
     "text": [
      "y\n"
     ]
    }
   ],
   "source": [
    "print(answer)"
   ]
  },
  {
   "cell_type": "code",
   "execution_count": null,
   "metadata": {},
   "outputs": [],
   "source": []
  },
  {
   "cell_type": "code",
   "execution_count": null,
   "metadata": {},
   "outputs": [],
   "source": []
  },
  {
   "cell_type": "code",
   "execution_count": null,
   "metadata": {},
   "outputs": [],
   "source": []
  },
  {
   "cell_type": "code",
   "execution_count": null,
   "metadata": {},
   "outputs": [],
   "source": []
  },
  {
   "cell_type": "code",
   "execution_count": null,
   "metadata": {},
   "outputs": [],
   "source": []
  },
  {
   "cell_type": "code",
   "execution_count": null,
   "metadata": {},
   "outputs": [],
   "source": []
  },
  {
   "cell_type": "code",
   "execution_count": null,
   "metadata": {},
   "outputs": [],
   "source": []
  },
  {
   "cell_type": "code",
   "execution_count": null,
   "metadata": {},
   "outputs": [],
   "source": []
  },
  {
   "cell_type": "code",
   "execution_count": null,
   "metadata": {},
   "outputs": [],
   "source": []
  },
  {
   "cell_type": "code",
   "execution_count": null,
   "metadata": {},
   "outputs": [],
   "source": []
  },
  {
   "cell_type": "code",
   "execution_count": null,
   "metadata": {},
   "outputs": [],
   "source": []
  },
  {
   "cell_type": "code",
   "execution_count": null,
   "metadata": {},
   "outputs": [],
   "source": []
  },
  {
   "cell_type": "code",
   "execution_count": null,
   "metadata": {},
   "outputs": [],
   "source": [
    "For students in character_writer"
   ]
  },
  {
   "cell_type": "code",
   "execution_count": null,
   "metadata": {},
   "outputs": [],
   "source": []
  },
  {
   "cell_type": "code",
   "execution_count": null,
   "metadata": {},
   "outputs": [],
   "source": []
  },
  {
   "cell_type": "code",
   "execution_count": null,
   "metadata": {},
   "outputs": [],
   "source": []
  },
  {
   "cell_type": "code",
   "execution_count": null,
   "metadata": {},
   "outputs": [],
   "source": [
    "import pandas as pd\n",
    "df = pd.Dataframe('hey.csv')"
   ]
  },
  {
   "cell_type": "code",
   "execution_count": null,
   "metadata": {},
   "outputs": [],
   "source": []
  },
  {
   "cell_type": "code",
   "execution_count": null,
   "metadata": {},
   "outputs": [],
   "source": []
  }
 ],
 "metadata": {
  "kernelspec": {
   "display_name": "Python 3.8.2 64-bit",
   "language": "python",
   "name": "python3"
  },
  "language_info": {
   "codemirror_mode": {
    "name": "ipython",
    "version": 3
   },
   "file_extension": ".py",
   "mimetype": "text/x-python",
   "name": "python",
   "nbconvert_exporter": "python",
   "pygments_lexer": "ipython3",
   "version": "3.8.2"
  },
  "orig_nbformat": 4,
  "vscode": {
   "interpreter": {
    "hash": "31f2aee4e71d21fbe5cf8b01ff0e069b9275f58929596ceb00d14d90e3e16cd6"
   }
  }
 },
 "nbformat": 4,
 "nbformat_minor": 2
}
