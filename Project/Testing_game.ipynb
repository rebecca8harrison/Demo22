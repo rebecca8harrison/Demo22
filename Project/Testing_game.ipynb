{
 "cells": [
  {
   "cell_type": "code",
   "execution_count": null,
   "metadata": {},
   "outputs": [],
   "source": [
    "\n",
    "# Import packages\n",
    "import random\n",
    "from this import d\n",
    "from IPython.display import clear_output \n",
    "from pygame import mixer\n",
    "import os\n",
    "from os import system\n",
    "import time\n",
    "from time import sleep\n",
    "import sys\n",
    "\n",
    "# Set key variables\n",
    "KEY_LABEL = {\"a\":\"move left\",\"s\":\"move down\",\"w\":\"move up\",\"d\":\"move right\",\"x\":\"exit\",\"e\":\"drop poison\"}\n",
    "KEY_MOVE = {\"a\":(0, -1),\"s\":(1 ,0 ),\"w\":(-1, 0),\"d\":(0, 1)}\n",
    "\n",
    "WORLD_MAP = [\n",
    "    [-2,-2,-2,-2,-2,-2,-2,-2,-2,-2,-2,-2,-2,-2,-2,-2,-2,-2,-2],\n",
    "    [-2,-1,-1,-1,-1,-1,-1,-1,-1,-1,-1,-1,-1,-1,-1,-1,-1,-1,-2],\n",
    "    [-2,-1, 1, 1, 1, 1, 1, 1, 1, 1, 1, 1, 1, 1, 1, 1, 1,-1,-2],\n",
    "    [-2,-1, 1, 1, 1, 1, 1, 1, 1, 1, 1, 1, 1, 1, 1, 1, 1,-1,-2],\n",
    "    [-2,-1, 1, 1, 1, 1, 1, 1, 1, 1, 1, 1, 1, 1, 1, 1, 1,-1,-2],\n",
    "    [-2,-1, 1, 1, 1, 1, 1, 1, 1, 1, 1, 1, 1, 1, 1, 1, 1,-1,-2],\n",
    "    [-2,-1, 1, 1, 1, 1, 1, 1, 1, 1, 1, 1, 1, 1, 1, 1, 1,-1,-2],\n",
    "    [-2,-1, 1, 1, 1, 1, 1, 1, 1, 1, 1, 1, 1, 1, 1, 1, 1,-1,-2],\n",
    "    [-2,-1, 1, 1, 1, 1, 1, 1, 1, 1, 1, 1, 1, 1, 1, 1, 1,-1,-2],\n",
    "    [-2,-1, 1, 1, 1, 1, 1, 1, 1, 1, 1, 1, 1, 1, 1, 1, 1,-1,-2],\n",
    "    [-2,-1, 1, 1, 1, 1, 1, 1, 1, 1, 1, 1, 1, 1, 1, 1, 1,-1,-2],\n",
    "    [-2,-1, 1, 1, 1, 1, 1, 1, 1, 1, 1, 1, 1, 1, 1, 1, 1,-1,-2],\n",
    "    [-2,-1, 1, 1, 1, 1, 1, 1, 1, 1, 1, 1, 1, 1, 1, 1, 1,-1,-2],\n",
    "    [-2,-1, 1, 1, 1, 1, 1, 1, 1, 1, 1, 1, 1, 1, 1, 1, 1,-1,-2],\n",
    "    [-2,-1, 1, 1, 1, 1, 1, 1, 1, 1, 1, 1, 1, 1, 1, 1, 1,-1,-2],\n",
    "    [-2,-1, 1, 1, 1, 1, 1, 1, 1, 1, 1, 1, 1, 1, 1, 1, 1,-1,-2],\n",
    "    [-2,-1, 1, 1, 1, 1, 1, 1, 1, 1, 1, 1, 1, 1, 1, 1, 1,-1,-2],\n",
    "    [-2,-1, 1, 1, 1, 1, 1, 1, 1, 1, 1, 1, 1, 1, 1, 1, 1,-1,-2],   \n",
    "    [-2,-1,-1,-1,-1,-1,-1,-1,-1,-1,-1,-1,-1,-1,-1,-1,-1,-1,-2],\n",
    "    [-2,-2,-2,-2,-2,-2,-2,-2,-2,-2,-2,-2,-2,-2,-2,-2,-2,-2,-2]\n",
    "]\n",
    "# Function to move the player\n",
    "def direct_yourself():\n",
    "    while True:\n",
    "        key_stroke = input(\"Which direction would you like to move? chose from: a to go left, s to go back, w to go forward, or d to go right\")\n",
    "            \n",
    "        # Checks the guess is in the range specified\n",
    "        if key_stroke not in KEY_LABEL.keys():\n",
    "            print(\"Please enter either a to go left, s to go back, w to go forward, or d to go right\")\n",
    "        else:\n",
    "            return key_stroke\n",
    "\n",
    "# Function to check the move is valid, return the calculated location (new or old)\n",
    "def move_if_valid(location,direction):\n",
    "    move = KEY_MOVE[direction]\n",
    "    new_location = (\n",
    "        location[0] + move[0],\n",
    "        location[1] + move[1],\n",
    "    )\n",
    "    # Check that the location is within the map\n",
    "    assert 0 <= new_location[0] < len(WORLD_MAP)\n",
    "    assert 0 <= new_location[1] < len(WORLD_MAP[0])\n",
    "\n",
    "    if direction==\"x\":\n",
    "        return direction\n",
    "    else:    \n",
    "        cell = WORLD_MAP[new_location[0]][new_location[1]]\n",
    "        # Setting the move\n",
    "        if cell < 0: # checks if hitting a wall, and if so returns original location\n",
    "            print(\"You've hit a wall, you can't\", KEY_LABEL[direction])\n",
    "            return location\n",
    "        else:   \n",
    "            print(\"You \",KEY_LABEL[direction])\n",
    "                \n",
    "                \n",
    "        return new_location\n",
    "\n",
    "\n",
    "# Prints the map\n",
    "def print_map_discovered(rabbit, fox, carrot, poison, key,key_found,poison_found,carrot_found):\n",
    "    for i, row in enumerate(WORLD_MAP):\n",
    "        for j, cell in enumerate(row):\n",
    "            if cell == -1 or cell == -2:\n",
    "                print(\"⬛\", end='') # The empty end='' argument stops the printing of a new line\n",
    "            elif (i,j) == fox:\n",
    "                print(\"🦊\", end='')\n",
    "            elif (i,j) == poison and not poison_found:\n",
    "                print(\"💀\", end='')\n",
    "            elif (i,j) == carrot and not carrot_found:\n",
    "                print(\"🥕\", end='')\n",
    "            elif (i,j) == rabbit:\n",
    "                print(\"🐰\", end='')\n",
    "            elif cell == 0:\n",
    "                print(\"🚪\", end='')\n",
    "            elif (i,j) == key and not key_found:\n",
    "                print(\"🗝️\", end='')\n",
    "            else:\n",
    "                print(\"🟩\", end='')\n",
    "        print() #Causes the row to end\n",
    "\n",
    "# Function to randomly assign an entity to a location to the map\n",
    "def valid_location(door=False):\n",
    "    while True:\n",
    "        if door==False:\n",
    "            location = (\n",
    "                random.randint(1,len(WORLD_MAP)-1),\n",
    "                random.randint(1,len(WORLD_MAP[0])-1)\n",
    "            )\n",
    "            cell = WORLD_MAP[location[0]][location[1]]\n",
    "            if cell==1:\n",
    "                WORLD_MAP[location[0]][location[1]] = 2\n",
    "                return location\n",
    "        else:\n",
    "            location = (\n",
    "                random.randint(1,len(WORLD_MAP)-1),\n",
    "                random.randint(1,len(WORLD_MAP[0])-1)\n",
    "            )\n",
    "            cell = WORLD_MAP[location[0]][location[1]]\n",
    "            if cell==-1:\n",
    "                WORLD_MAP[location[0]][location[1]] = 0\n",
    "                return location"
   ]
  },
  {
   "cell_type": "code",
   "execution_count": 11,
   "metadata": {},
   "outputs": [
    {
     "name": "stdout",
     "output_type": "stream",
     "text": [
      "⬛⬛⬛⬛⬛⬛⬛⬛⬛⬛⬛⬛⬛⬛⬛⬛⬛⬛⬛\n",
      "⬛⬛⬛⬛⬛⬛⬛⬛⬛⬛⬛⬛⬛⬛⬛⬛⬛⬛⬛\n",
      "⬛🚪🟩🟩🟩🟩🟩🟩🟩🟩🟩🟩🟩🟩🟩🟩🟩⬛⬛\n",
      "⬛⬛🟩🟩🟩🟩🟩🟩🟩🟩🟩🟩🟩🟩🟩🟩🟩⬛⬛\n",
      "⬛⬛🟩🟩🟩🟩🟩🟩🟩🟩🟩🟩🟩🟩🟩🟩🟩⬛⬛\n",
      "⬛⬛🟩🟩🟩🟩🟩🟩🟩🟩🟩🟩🟩🟩🟩🟩🟩⬛⬛\n",
      "⬛⬛🟩🟩🟩🟩🟩🟩🟩🟩🟩🟩🟩🟩🟩🟩🟩⬛⬛\n",
      "⬛⬛🟩🟩🟩🟩🟩🟩🟩🟩🟩🟩🟩🟩🟩🟩🟩⬛⬛\n",
      "⬛⬛🟩🟩🟩🗝️🟩🟩🟩🟩🟩🟩🟩🟩🟩🟩🟩⬛⬛\n",
      "⬛⬛🟩🐰🟩🟩🟩🟩🟩🟩🟩🟩🟩🟩🟩🟩🟩⬛⬛\n",
      "⬛⬛🟩🟩🟩🟩🟩🟩🟩🟩🟩🟩🟩🟩🟩🟩🟩⬛⬛\n",
      "⬛⬛🟩🟩🟩🟩🟩🟩🟩🟩🟩🟩🟩🟩🟩🟩🟩⬛⬛\n",
      "⬛⬛🟩🦊🟩🟩🟩🟩🟩🟩🟩🟩🟩🟩🟩🥕🟩⬛⬛\n",
      "⬛⬛🟩🟩🟩🟩🟩🟩🟩🟩🟩🟩🟩🟩🟩🟩🟩⬛⬛\n",
      "⬛⬛🟩🟩🟩🟩🟩🟩🟩🟩🟩🟩🟩🟩🟩🟩🟩⬛⬛\n",
      "⬛⬛🟩🟩🟩🟩🟩🟩🟩🟩🟩🟩🟩🟩🟩🟩🟩⬛⬛\n",
      "⬛⬛🟩🟩🟩🟩🟩🟩🟩🟩🟩🟩🟩🟩🟩🟩🟩⬛⬛\n",
      "⬛⬛🟩🟩🟩🟩🟩🟩🟩🟩🟩🟩💀🟩🟩🟩🟩⬛⬛\n",
      "⬛⬛⬛⬛⬛⬛⬛⬛⬛⬛⬛⬛⬛⬛⬛⬛⬛⬛⬛\n",
      "⬛⬛⬛⬛⬛⬛⬛⬛⬛⬛⬛⬛⬛⬛⬛⬛⬛⬛⬛\n"
     ]
    }
   ],
   "source": [
    "location = valid_location()\n",
    "key_found = False\n",
    "carrot_found = False\n",
    "poison_found = False\n",
    "key_location=valid_location()\n",
    "fox_location=valid_location()\n",
    "poison_location=valid_location()\n",
    "carrot_location=valid_location()\n",
    "door_location=valid_location(door=True)\n",
    "\n",
    "print_map_discovered(location, fox_location, carrot_location, poison_location, key_location,key_found,poison_found,carrot_found)"
   ]
  },
  {
   "cell_type": "code",
   "execution_count": 7,
   "metadata": {},
   "outputs": [
    {
     "data": {
      "text/plain": [
       "[[-2, -2, -2, -2, -2, -2, -2, -2, -2, -2, -2, -2, -2, -2, -2, -2, -2, -2, -2],\n",
       " [-2, -1, -1, -1, -1, -1, -1, -1, 0, -1, -1, -1, -1, -1, -1, -1, -1, -1, -2],\n",
       " [-2, -1, 1, 1, 1, 1, 1, 1, 1, 1, 1, 1, 1, 1, 1, 1, 1, -1, -2],\n",
       " [-2, -1, 1, 1, 1, 1, 1, 1, 1, 1, 1, 1, 1, 1, 1, 1, 2, -1, -2],\n",
       " [-2, -1, 1, 1, 1, 1, 1, 1, 1, 1, 1, 1, 1, 1, 1, 1, 1, -1, -2],\n",
       " [-2, -1, 1, 1, 1, 1, 1, 1, 1, 1, 1, 1, 1, 1, 1, 1, 1, -1, -2],\n",
       " [-2, -1, 1, 1, 1, 1, 1, 1, 1, 1, 1, 1, 1, 1, 1, 1, 1, -1, -2],\n",
       " [-2, -1, 1, 1, 1, 1, 1, 1, 1, 1, 1, 1, 1, 1, 1, 1, 1, -1, -2],\n",
       " [-2, -1, 1, 1, 1, 1, 1, 1, 1, 1, 1, 1, 1, 1, 2, 1, 1, -1, -2],\n",
       " [-2, -1, 1, 1, 1, 1, 1, 1, 1, 1, 2, 1, 1, 1, 1, 1, 1, -1, -2],\n",
       " [-2, -1, 1, 1, 1, 1, 1, 1, 1, 1, 2, 1, 1, 1, 1, 1, 1, -1, -2],\n",
       " [-2, -1, 1, 1, 1, 1, 1, 1, 1, 1, 1, 1, 1, 1, 1, 1, 1, -1, -2],\n",
       " [-2, -1, 1, 1, 1, 1, 1, 1, 1, 1, 1, 1, 1, 1, 1, 1, 1, -1, -2],\n",
       " [-2, -1, 1, 1, 1, 1, 1, 1, 1, 1, 1, 1, 1, 1, 1, 1, 1, -1, -2],\n",
       " [-2, -1, 1, 1, 1, 1, 1, 1, 1, 1, 1, 1, 1, 1, 1, 1, 1, -1, -2],\n",
       " [-2, -1, 1, 1, 1, 1, 1, 1, 1, 1, 1, 1, 1, 1, 1, 1, 1, -1, -2],\n",
       " [-2, -1, 1, 2, 1, 1, 1, 1, 1, 1, 1, 1, 1, 1, 1, 1, 1, -1, -2],\n",
       " [-2, -1, 1, 1, 1, 1, 1, 1, 1, 1, 1, 1, 1, 1, 1, 1, 1, -1, -2],\n",
       " [-2, -1, -1, -1, -1, -1, -1, -1, -1, -1, -1, -1, -1, -1, -1, -1, -1, -1, -2],\n",
       " [-2, -2, -2, -2, -2, -2, -2, -2, -2, -2, -2, -2, -2, -2, -2, -2, -2, -2, -2]]"
      ]
     },
     "execution_count": 7,
     "metadata": {},
     "output_type": "execute_result"
    }
   ],
   "source": [
    "WORLD_MAP"
   ]
  },
  {
   "cell_type": "code",
   "execution_count": 24,
   "metadata": {},
   "outputs": [
    {
     "name": "stdout",
     "output_type": "stream",
     "text": [
      "(-1, 0)\n"
     ]
    }
   ],
   "source": [
    "import random\n"
   ]
  },
  {
   "cell_type": "code",
   "execution_count": null,
   "metadata": {},
   "outputs": [],
   "source": [
    "# Function to move the fox\n",
    "def move_fox(fox_location):\n",
    "\n",
    "    move=random.choice(list(KEY_MOVE.values()))\n",
    "    new_location = (\n",
    "        location[0] + move[0],\n",
    "        location[1] + move[1],\n",
    "        )\n",
    "    \n",
    "   \n",
    "    return new_location"
   ]
  },
  {
   "cell_type": "code",
   "execution_count": null,
   "metadata": {},
   "outputs": [],
   "source": [
    "            if fox_location[0] in range(location[0]-1,location[0]+2) or fox_location[1] in range(location[1]-1,location[1]+2):\n",
    "                move[0]=location[0]-fox_location[0]\n",
    "                move[1]=location[1]-fox_location[1]\n",
    "                new_fox_location = (\n",
    "                        fox_location[0] + move[0],\n",
    "                        fox_location[1] + move[1],\n",
    "                        )\n",
    "            else:"
   ]
  },
  {
   "cell_type": "code",
   "execution_count": null,
   "metadata": {},
   "outputs": [],
   "source": [
    "# Function to move the fox\n",
    "def move_fox(fox_alive,fox_location, poison_location, poison_found,location):\n",
    "    if fox_alive==True:  \n",
    "        while True:\n",
    "            move=random.choice(list(KEY_MOVE.values()))\n",
    "            new_fox_location = (\n",
    "                fox_location[0] + move[0],\n",
    "                fox_location[1] + move[1],\n",
    "                )\n",
    "            # Check that the location is within the map\n",
    "            assert 0 <= new_fox_location[0] < len(WORLD_MAP)\n",
    "            assert 0 <= new_fox_location[1] < len(WORLD_MAP[0])\n",
    "            \n",
    "            cell = WORLD_MAP[new_fox_location[0]][new_fox_location[1]]\n",
    "            if cell < 0: # checks if hitting a wall, and if so returns original location\n",
    "                continue\n",
    "            if new_fox_location==poison_location and poison_found==\"dropped\":\n",
    "                print(\"You've killed the fox\")\n",
    "                return False,new_fox_location\n",
    "            else:   \n",
    "                return True,new_fox_location  \n",
    "    else:\n",
    "        False,fox_location "
   ]
  },
  {
   "cell_type": "code",
   "execution_count": null,
   "metadata": {},
   "outputs": [],
   "source": []
  },
  {
   "cell_type": "code",
   "execution_count": null,
   "metadata": {},
   "outputs": [],
   "source": []
  },
  {
   "cell_type": "code",
   "execution_count": null,
   "metadata": {},
   "outputs": [],
   "source": []
  },
  {
   "cell_type": "code",
   "execution_count": 4,
   "metadata": {},
   "outputs": [],
   "source": [
    "import pandas as pd"
   ]
  },
  {
   "cell_type": "code",
   "execution_count": 2,
   "metadata": {},
   "outputs": [],
   "source": [
    "from os.path import exists"
   ]
  },
  {
   "cell_type": "code",
   "execution_count": 32,
   "metadata": {},
   "outputs": [
    {
     "name": "stdout",
     "output_type": "stream",
     "text": [
      "Empty DataFrame\n",
      "Columns: [name, win, distance_rabbit_fox, distance_rabbit_carrot, distance_rabbit_key, distance_rabbit_door, carrot_found, carrot_found, key_found, poison_found, poison_used, fox_killed, number_attempts]\n",
      "Index: []\n"
     ]
    }
   ],
   "source": [
    "print(df)"
   ]
  },
  {
   "cell_type": "code",
   "execution_count": 10,
   "metadata": {},
   "outputs": [],
   "source": [
    "previous=\"x\"\n",
    "previous_range = [\"y\",\"n\"]\n",
    "while previous not in previous_range:\n",
    "    \n",
    "    previous = input(\"Have you played this game before? y/n?\")\n",
    "name=\"none\"   \n",
    "if previous==\"n\":\n",
    "    name = input(\"What is your name?\")\n",
    "    attempt_no=1\n",
    "else:\n",
    "    names = set(df['name'])\n",
    "    print(names)\n",
    "    while name not in names:\n",
    "        name = input(\"Please enter the name from the list above that you have used when you last played this game\")\n",
    "    attempt_no=df['name'].str.count(name)\n",
    "\n",
    "\n"
   ]
  },
  {
   "cell_type": "code",
   "execution_count": 5,
   "metadata": {},
   "outputs": [
    {
     "ename": "ValueError",
     "evalue": "Shape of passed values is (13, 1), indices imply (13, 13)",
     "output_type": "error",
     "traceback": [
      "\u001b[0;31m---------------------------------------------------------------------------\u001b[0m",
      "\u001b[0;31mValueError\u001b[0m                                Traceback (most recent call last)",
      "Cell \u001b[0;32mIn [5], line 12\u001b[0m\n\u001b[1;32m     10\u001b[0m \u001b[39mfrom\u001b[39;00m \u001b[39mos\u001b[39;00m\u001b[39m.\u001b[39;00m\u001b[39mpath\u001b[39;00m \u001b[39mimport\u001b[39;00m exists\n\u001b[1;32m     11\u001b[0m data \u001b[39m=\u001b[39m [\u001b[39m1\u001b[39m,\u001b[39m\"\u001b[39m\u001b[39mtest\u001b[39m\u001b[39m\"\u001b[39m,\u001b[39mFalse\u001b[39;00m,\u001b[39m0\u001b[39m,\u001b[39m0\u001b[39m,\u001b[39m0\u001b[39m,\u001b[39m0\u001b[39m,\u001b[39m1\u001b[39m,\u001b[39m2\u001b[39m,\u001b[39m3\u001b[39m,\u001b[39mTrue\u001b[39;00m,\u001b[39mFalse\u001b[39;00m,\u001b[39m1\u001b[39m]\n\u001b[0;32m---> 12\u001b[0m df \u001b[39m=\u001b[39m pd\u001b[39m.\u001b[39mDataFrame(data,columns\u001b[39m=\u001b[39m[\u001b[39m'\u001b[39m\u001b[39mid\u001b[39m\u001b[39m'\u001b[39m,\n\u001b[1;32m     13\u001b[0m                             \u001b[39m'\u001b[39m\u001b[39mname\u001b[39m\u001b[39m'\u001b[39m, \n\u001b[1;32m     14\u001b[0m                             \u001b[39m'\u001b[39m\u001b[39mwin\u001b[39m\u001b[39m'\u001b[39m, \n\u001b[1;32m     15\u001b[0m                             \u001b[39m'\u001b[39m\u001b[39mdistance_rabbit_fox\u001b[39m\u001b[39m'\u001b[39m,\n\u001b[1;32m     16\u001b[0m                             \u001b[39m'\u001b[39m\u001b[39mdistance_rabbit_carrot\u001b[39m\u001b[39m'\u001b[39m,\n\u001b[1;32m     17\u001b[0m                             \u001b[39m'\u001b[39m\u001b[39mdistance_rabbit_key\u001b[39m\u001b[39m'\u001b[39m,\n\u001b[1;32m     18\u001b[0m                             \u001b[39m'\u001b[39m\u001b[39mdistance_rabbit_door\u001b[39m\u001b[39m'\u001b[39m,\n\u001b[1;32m     19\u001b[0m                             \u001b[39m'\u001b[39m\u001b[39mcarrot_found\u001b[39m\u001b[39m'\u001b[39m,\n\u001b[1;32m     20\u001b[0m                             \u001b[39m'\u001b[39m\u001b[39mkey_found\u001b[39m\u001b[39m'\u001b[39m,\n\u001b[1;32m     21\u001b[0m                             \u001b[39m'\u001b[39m\u001b[39mpoison_found\u001b[39m\u001b[39m'\u001b[39m,\n\u001b[1;32m     22\u001b[0m                             \u001b[39m'\u001b[39m\u001b[39mpoison_used\u001b[39m\u001b[39m'\u001b[39m,\n\u001b[1;32m     23\u001b[0m                             \u001b[39m'\u001b[39m\u001b[39mfox_killed\u001b[39m\u001b[39m'\u001b[39m,\n\u001b[1;32m     24\u001b[0m                             \u001b[39m'\u001b[39m\u001b[39mnumber_attempts\u001b[39m\u001b[39m'\u001b[39m],\n\u001b[1;32m     25\u001b[0m                             )\n\u001b[1;32m     26\u001b[0m df\u001b[39m.\u001b[39mastype({\u001b[39m'\u001b[39m\u001b[39mid\u001b[39m\u001b[39m'\u001b[39m:\u001b[39m'\u001b[39m\u001b[39mint32\u001b[39m\u001b[39m'\u001b[39m,\n\u001b[1;32m     27\u001b[0m             \u001b[39m'\u001b[39m\u001b[39mwin\u001b[39m\u001b[39m'\u001b[39m:\u001b[39m'\u001b[39m\u001b[39mbool\u001b[39m\u001b[39m'\u001b[39m,\n\u001b[1;32m     28\u001b[0m             \u001b[39m'\u001b[39m\u001b[39mdistance_rabbit_fox\u001b[39m\u001b[39m'\u001b[39m: \u001b[39m'\u001b[39m\u001b[39mint32\u001b[39m\u001b[39m'\u001b[39m,\n\u001b[0;32m   (...)\u001b[0m\n\u001b[1;32m     36\u001b[0m             \u001b[39m'\u001b[39m\u001b[39mfox_killed\u001b[39m\u001b[39m'\u001b[39m:\u001b[39m'\u001b[39m\u001b[39mbool\u001b[39m\u001b[39m'\u001b[39m,\n\u001b[1;32m     37\u001b[0m             \u001b[39m'\u001b[39m\u001b[39mnumber_attempts\u001b[39m\u001b[39m'\u001b[39m:\u001b[39m'\u001b[39m\u001b[39mint32\u001b[39m\u001b[39m'\u001b[39m,})\u001b[39m.\u001b[39mdtypes\n",
      "File \u001b[0;32m/Library/Frameworks/Python.framework/Versions/3.10/lib/python3.10/site-packages/pandas/core/frame.py:761\u001b[0m, in \u001b[0;36mDataFrame.__init__\u001b[0;34m(self, data, index, columns, dtype, copy)\u001b[0m\n\u001b[1;32m    753\u001b[0m         mgr \u001b[39m=\u001b[39m arrays_to_mgr(\n\u001b[1;32m    754\u001b[0m             arrays,\n\u001b[1;32m    755\u001b[0m             columns,\n\u001b[0;32m   (...)\u001b[0m\n\u001b[1;32m    758\u001b[0m             typ\u001b[39m=\u001b[39mmanager,\n\u001b[1;32m    759\u001b[0m         )\n\u001b[1;32m    760\u001b[0m     \u001b[39melse\u001b[39;00m:\n\u001b[0;32m--> 761\u001b[0m         mgr \u001b[39m=\u001b[39m ndarray_to_mgr(\n\u001b[1;32m    762\u001b[0m             data,\n\u001b[1;32m    763\u001b[0m             index,\n\u001b[1;32m    764\u001b[0m             columns,\n\u001b[1;32m    765\u001b[0m             dtype\u001b[39m=\u001b[39;49mdtype,\n\u001b[1;32m    766\u001b[0m             copy\u001b[39m=\u001b[39;49mcopy,\n\u001b[1;32m    767\u001b[0m             typ\u001b[39m=\u001b[39;49mmanager,\n\u001b[1;32m    768\u001b[0m         )\n\u001b[1;32m    769\u001b[0m \u001b[39melse\u001b[39;00m:\n\u001b[1;32m    770\u001b[0m     mgr \u001b[39m=\u001b[39m dict_to_mgr(\n\u001b[1;32m    771\u001b[0m         {},\n\u001b[1;32m    772\u001b[0m         index,\n\u001b[0;32m   (...)\u001b[0m\n\u001b[1;32m    775\u001b[0m         typ\u001b[39m=\u001b[39mmanager,\n\u001b[1;32m    776\u001b[0m     )\n",
      "File \u001b[0;32m/Library/Frameworks/Python.framework/Versions/3.10/lib/python3.10/site-packages/pandas/core/internals/construction.py:350\u001b[0m, in \u001b[0;36mndarray_to_mgr\u001b[0;34m(values, index, columns, dtype, copy, typ)\u001b[0m\n\u001b[1;32m    345\u001b[0m \u001b[39m# _prep_ndarraylike ensures that values.ndim == 2 at this point\u001b[39;00m\n\u001b[1;32m    346\u001b[0m index, columns \u001b[39m=\u001b[39m _get_axes(\n\u001b[1;32m    347\u001b[0m     values\u001b[39m.\u001b[39mshape[\u001b[39m0\u001b[39m], values\u001b[39m.\u001b[39mshape[\u001b[39m1\u001b[39m], index\u001b[39m=\u001b[39mindex, columns\u001b[39m=\u001b[39mcolumns\n\u001b[1;32m    348\u001b[0m )\n\u001b[0;32m--> 350\u001b[0m _check_values_indices_shape_match(values, index, columns)\n\u001b[1;32m    352\u001b[0m \u001b[39mif\u001b[39;00m typ \u001b[39m==\u001b[39m \u001b[39m\"\u001b[39m\u001b[39marray\u001b[39m\u001b[39m\"\u001b[39m:\n\u001b[1;32m    354\u001b[0m     \u001b[39mif\u001b[39;00m \u001b[39missubclass\u001b[39m(values\u001b[39m.\u001b[39mdtype\u001b[39m.\u001b[39mtype, \u001b[39mstr\u001b[39m):\n",
      "File \u001b[0;32m/Library/Frameworks/Python.framework/Versions/3.10/lib/python3.10/site-packages/pandas/core/internals/construction.py:421\u001b[0m, in \u001b[0;36m_check_values_indices_shape_match\u001b[0;34m(values, index, columns)\u001b[0m\n\u001b[1;32m    419\u001b[0m passed \u001b[39m=\u001b[39m values\u001b[39m.\u001b[39mshape\n\u001b[1;32m    420\u001b[0m implied \u001b[39m=\u001b[39m (\u001b[39mlen\u001b[39m(index), \u001b[39mlen\u001b[39m(columns))\n\u001b[0;32m--> 421\u001b[0m \u001b[39mraise\u001b[39;00m \u001b[39mValueError\u001b[39;00m(\u001b[39mf\u001b[39m\u001b[39m\"\u001b[39m\u001b[39mShape of passed values is \u001b[39m\u001b[39m{\u001b[39;00mpassed\u001b[39m}\u001b[39;00m\u001b[39m, indices imply \u001b[39m\u001b[39m{\u001b[39;00mimplied\u001b[39m}\u001b[39;00m\u001b[39m\"\u001b[39m)\n",
      "\u001b[0;31mValueError\u001b[0m: Shape of passed values is (13, 1), indices imply (13, 13)"
     ]
    }
   ],
   "source": [
    "import random\n",
    "from IPython.display import clear_output \n",
    "#from pygame import mixer\n",
    "import os\n",
    "from os import system\n",
    "import time\n",
    "from time import sleep\n",
    "import sys\n",
    "import pandas as pd\n",
    "from os.path import exists\n",
    "data = [1,\"test\",False,0,0,0,0,1,2,3,True,False,1]\n",
    "df = pd.DataFrame(data,columns=['id',\n",
    "                            'name', \n",
    "                            'win', \n",
    "                            'distance_rabbit_fox',\n",
    "                            'distance_rabbit_carrot',\n",
    "                            'distance_rabbit_key',\n",
    "                            'distance_rabbit_door',\n",
    "                            'carrot_found',\n",
    "                            'key_found',\n",
    "                            'poison_found',\n",
    "                            'poison_used',\n",
    "                            'fox_killed',\n",
    "                            'number_attempts'],\n",
    "                            )\n",
    "df.astype({'id':'int32',\n",
    "            'win':'bool',\n",
    "            'distance_rabbit_fox': 'int32',\n",
    "            'distance_rabbit_carrot': 'int32',\n",
    "            'distance_rabbit_key': 'int32',\n",
    "            'distance_rabbit_door': 'int32',\n",
    "            'carrot_found':'int32',\n",
    "            'key_found':'int32',\n",
    "            'poison_found':'int32',\n",
    "            'poison_used':'int32',\n",
    "            'fox_killed':'bool',\n",
    "            'number_attempts':'int32',}).dtypes"
   ]
  },
  {
   "cell_type": "code",
   "execution_count": null,
   "metadata": {},
   "outputs": [],
   "source": []
  },
  {
   "cell_type": "code",
   "execution_count": null,
   "metadata": {},
   "outputs": [],
   "source": []
  },
  {
   "cell_type": "code",
   "execution_count": null,
   "metadata": {},
   "outputs": [],
   "source": []
  },
  {
   "cell_type": "code",
   "execution_count": null,
   "metadata": {},
   "outputs": [],
   "source": []
  },
  {
   "cell_type": "code",
   "execution_count": null,
   "metadata": {},
   "outputs": [],
   "source": []
  },
  {
   "cell_type": "code",
   "execution_count": null,
   "metadata": {},
   "outputs": [],
   "source": []
  },
  {
   "cell_type": "code",
   "execution_count": null,
   "metadata": {},
   "outputs": [],
   "source": []
  },
  {
   "cell_type": "code",
   "execution_count": null,
   "metadata": {},
   "outputs": [],
   "source": []
  },
  {
   "cell_type": "code",
   "execution_count": null,
   "metadata": {},
   "outputs": [],
   "source": []
  },
  {
   "cell_type": "code",
   "execution_count": null,
   "metadata": {},
   "outputs": [],
   "source": []
  },
  {
   "cell_type": "code",
   "execution_count": null,
   "metadata": {},
   "outputs": [],
   "source": []
  },
  {
   "cell_type": "code",
   "execution_count": null,
   "metadata": {},
   "outputs": [],
   "source": []
  }
 ],
 "metadata": {
  "kernelspec": {
   "display_name": "Python 3.10.7 64-bit",
   "language": "python",
   "name": "python3"
  },
  "language_info": {
   "codemirror_mode": {
    "name": "ipython",
    "version": 3
   },
   "file_extension": ".py",
   "mimetype": "text/x-python",
   "name": "python",
   "nbconvert_exporter": "python",
   "pygments_lexer": "ipython3",
   "version": "3.10.7"
  },
  "orig_nbformat": 4,
  "vscode": {
   "interpreter": {
    "hash": "7e1998ff7f8aa20ada591c520b972326324e5ea05489af9e422744c7c09f6dad"
   }
  }
 },
 "nbformat": 4,
 "nbformat_minor": 2
}
