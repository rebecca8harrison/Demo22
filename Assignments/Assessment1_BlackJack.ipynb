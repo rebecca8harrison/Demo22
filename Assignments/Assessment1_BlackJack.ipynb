{
 "cells": [
  {
   "cell_type": "code",
   "execution_count": 1,
   "metadata": {},
   "outputs": [
    {
     "name": "stdout",
     "output_type": "stream",
     "text": [
      "👽 🥸 Welcome to blackjack!\n",
      "🥸 Dealer's first card is: 3\n",
      "🥸 Dealer's second card is hidden.\n",
      "👽 You card's value is: 6\n",
      "👽 Your total is: 6\n",
      "👽 You card's value is: 7\n",
      "👽 Your total is: 13\n",
      "👽 You card's value is: 6\n",
      "👽 Your total is: 19\n",
      "🥸 Dealers first card is:  3  and the dealers second card is:  10\n",
      "🥸 Dealer's total is: 13\n",
      "🥸 Dealer's total is: 23\n",
      "👽 You are a Winner! 🎂\n",
      "🥸 Dealer's final total is: 23\n",
      "👽 Your final total is: 19\n"
     ]
    }
   ],
   "source": [
    "#_______________________________________________________________________________________\n",
    "# Dice Rolling Simulator\n",
    "#    - This developed into a funtioning blackjack game with one player against the dealer. \n",
    "#    - There is a \"card deck\" simulating the point values of all the cards in a deck\n",
    "#    - If an ace is selected then you will get a prompt to choose a 1 or 11, the choice for the dealer is figured into the logic\n",
    "#    - Some further improvements would be to allow you to \"split the deck\" when you get identical cards and then bring in multiplayer   \n",
    "#________________________________________________________________________________________\n",
    "\n",
    "#-------------------------\n",
    "#      Game Rules\n",
    "#-------------------------\n",
    "# At the start of the game you are dealt one card and the value of that card is display.\n",
    "# The dealer is dealt 2 cards to start but only one card is revealed to you\n",
    "# You are then given the option to be given another card. Type \"y\" for yes or hit enter for no\n",
    "# The aim of the game is to get closer to 21 than the dealer without going over 21. If you hit 21 then that is a \"Black Jack\", but can only be won if the dealer's score falls bellow or over this number.\n",
    "# If you go over 21 you loose instantly \n",
    "# If you are closer to 21 than the dealer at the end then you win\n",
    "# If you and the dealer have the same score than you draw.\n",
    "#-------------------------\n",
    "\n",
    "\n",
    "#-------------------------\n",
    "#   Historical Notes\n",
    "#-------------------------\n",
    "# With the dealer\n",
    "# Player selects and every time the player goes the dealer goes. \n",
    "# Whoever goes above 21 atomatically looses and the other player wins\n",
    "# if both players are under 21 then the closest is the winner\n",
    "# Dealer selects first and we respond to result\n",
    "# Dealer goes first until they have selected \n",
    "# Over 21 looses\n",
    "# dealer keeps one card hidden\n",
    "# players stick or play  adding up the cards. If over he looses \n",
    "# dealer then flips card and if 16 or less they go again\n",
    "# 👍🏻 Solution for proper blackjack: Make an array \n",
    "#__________________________\n",
    "\n",
    "# calling the function for selecting a random number\n",
    "import random \n",
    "\n",
    "# Creating a card_deck based on the actual make up of a pack of cards\n",
    "card_deck = [1,2,3,4,5,6,7,8,9,10,10,10,10,1,2,3,4,5,6,7,8,9,10,10,10,10,1,2,3,4,5,6,7,8,9,10,10,10,10,1,2,3,4,5,6,7,8,9,10,10,10,10]\n",
    "dealers_total = 0\n",
    "# Defining a function a randomly select and remove a card from card deck \n",
    "def select_remove_dealer_card(card_deck,dealers_total): \n",
    "    dealers_total=dealers_total\n",
    "    card_deck = card_deck \n",
    "    card_deck_position = random.randint(0,(len(card_deck)-1))\n",
    "    # saves card value\n",
    "    card = card_deck[card_deck_position]  \n",
    "    # removes card from deck\n",
    "    card_deck.pop(card_deck_position) \n",
    "    if card==1 & (11+dealers_total)>=21:\n",
    "        card==1 \n",
    "    elif card!=1:\n",
    "        card=card\n",
    "    else:\n",
    "        card==11\n",
    "    return card_deck, card \n",
    "\n",
    "def select_remove_player_card(card_deck): \n",
    "    card_deck = card_deck \n",
    "    card_deck_position = random.randint(0,(len(card_deck)-1))\n",
    "     # saves card value\n",
    "    card = card_deck[card_deck_position] \n",
    "    # removes card from deck\n",
    "    card_deck.pop(card_deck_position) \n",
    " \n",
    "    range=[1,11]\n",
    "    if card==1:\n",
    "        print(\"👽 You pulled an ace, please select it's value\")    \n",
    "        while True:\n",
    "            try:\n",
    "                card = int(input(\"👽 Would you like your ace to be a 1 or 11?\"))\n",
    "                #Checks the guess is in the range specified\n",
    "                assert card in range \n",
    "            #Checks that the input is an integer\n",
    "            except ValueError: \n",
    "                print(\"👽 Not an integer! Please enter an integer.\")\n",
    "            #Checks the guess is in the range specified\n",
    "            except AssertionError: \n",
    "                print(\"👽 Please enter a 1 or 11\")\n",
    "            else:\n",
    "                break\n",
    "    \n",
    "    return card_deck, card \n",
    "\n",
    "\n",
    "#-----------------------------------\n",
    "# Start of the game\n",
    "#-----------------------------------\n",
    "\n",
    "print(\"👽 🥸 Welcome to blackjack!\")  \n",
    "\n",
    "# Creating variables that activate the player and dealer loops\n",
    "select_card_player = \"y\"\n",
    "select_card_dealer = \"y\"\n",
    "\n",
    "# Creating variable for store the player's total score\n",
    "maximus_totalis_player = 0\n",
    "\n",
    "#-----------------------------------\n",
    "# The dealers first two card draws\n",
    "#-----------------------------------\n",
    "\n",
    "card_deck,dealers_first_result = select_remove_dealer_card(card_deck,dealers_total)\n",
    "dealers_total = dealers_first_result\n",
    "card_deck,dealers_second_result = select_remove_dealer_card(card_deck,dealers_total)\n",
    "\n",
    "print(\"🥸 Dealer's first card is: \" + str(dealers_first_result))\n",
    "print(\"🥸 Dealer's second card is hidden.\")\n",
    "\n",
    "# Calculate the dealers total\n",
    "dealers_total = dealers_first_result + dealers_second_result\n",
    "\n",
    "#-----------------------------------\n",
    "# While loop for the players turns\n",
    "#-----------------------------------\n",
    "\n",
    "#Runs whilst the player wants to draw again and their total is below 21\n",
    "while select_card_player == \"y\": \n",
    "    card_deck,card_total_player = select_remove_player_card(card_deck) # Player draws card\n",
    "    maximus_totalis_player += card_total_player # Player's total is recalculated\n",
    "    print(\"👽 You card's value is: \" + str(card_total_player))\n",
    "    print(\"👽 Your total is: \" + str(maximus_totalis_player))\n",
    "    # Loop is stopped if player total goes above 21 and player is told they lost\n",
    "    if maximus_totalis_player > 21 : \n",
    "        print(\"👽 You lose sucker!\")\n",
    "        select_card_player = \"n\"\n",
    "        print(\"🥸 Dealers first card is: \",dealers_first_result,\" and the dealers second card is: \",dealers_second_result)\n",
    "        print(\"🥸 Dealer wins! With a total of: \" + str(dealers_total))\n",
    "    # Play is stopped if player's total is equal to 21    \n",
    "    elif maximus_totalis_player == 21: \n",
    "        print(\"👽 You got 21!\")\n",
    "        select_card_player = \"n\"\n",
    "    # While loop allowing player to keep playing\n",
    "    else: \n",
    "        select_card_player = input(\"👽 Would you like another card?\")\n",
    "       \n",
    "\n",
    "#-----------------------------------\n",
    "# While loop for dealers turn\n",
    "#-----------------------------------\n",
    "     \n",
    "# If player does not get >21 then dealer plays in below loop\n",
    "if maximus_totalis_player <= 21:\n",
    "    print(\"🥸 Dealers first card is: \",dealers_first_result,\" and the dealers second card is: \",dealers_second_result)\n",
    "    print(\"🥸 Dealer's total is: \" + str(dealers_total))\n",
    "    # Dealer keeps playing if their total is below 16\n",
    "    while dealers_total <= 16: \n",
    "        card_deck,dealers_card = select_remove_dealer_card(card_deck,dealers_total)\n",
    "        dealers_total += dealers_card\n",
    "        print(\"🥸 Dealer's total is: \" + str(dealers_total))\n",
    "    # Game is drawn if dealer and player totals are equal\n",
    "    if maximus_totalis_player == dealers_total: \n",
    "        print(\"👽 🥸 You draw!\")\n",
    "    # Player wins if dealer's total goes above 21\n",
    "    elif dealers_total > 21 : \n",
    "        print(\"👽 You are a Winner! 🎂\")\n",
    "    # Checks whether player or dealer's total is closer to 21\n",
    "    elif (21 - dealers_total) > (21 - maximus_totalis_player): \n",
    "        print(\"👽 You are a Winner! 🎂\")\n",
    "    else:\n",
    "        print(\"👽 You lose sucker!\")\n",
    "    # Final scores printed\n",
    "    print(\"🥸 Dealer's final total is: \" + str(dealers_total))\n",
    "    print(\"👽 Your final total is: \" + str(maximus_totalis_player))\n",
    "    \n"
   ]
  },
  {
   "cell_type": "code",
   "execution_count": null,
   "metadata": {},
   "outputs": [],
   "source": []
  },
  {
   "cell_type": "code",
   "execution_count": 7,
   "metadata": {},
   "outputs": [
    {
     "name": "stdout",
     "output_type": "stream",
     "text": [
      "Not an integer! Please enter an integer.\n",
      "Not an integer! Please enter an integer.\n",
      "Not an integer! Please enter an integer.\n",
      "Not an integer! Please enter an integer.\n",
      "Not an integer! Please enter an integer.\n",
      "Not an integer! Please enter an integer.\n"
     ]
    }
   ],
   "source": [
    "    card=1\n",
    "    check = [1,11]\n",
    "    if card ==1:\n",
    "        \n",
    "        while True:\n",
    "            try:\n",
    "                card==int(input(\"Would you like your ace to be equal to 1 or 11? Type 1 or 11\"))\n",
    "                assert card in check #Checks the card is 1 or 11\n",
    "            except ValueError: #Checks that the range is an integer\n",
    "                print(\"Not an integer! Please enter an integer.\")\n",
    "            except AssertionError: #Checks the guess is 1 or 11\n",
    "                print(\"Please enter 1 or 11\")\n",
    "            else:\n",
    "                break\n",
    "    print(card)"
   ]
  },
  {
   "cell_type": "code",
   "execution_count": null,
   "metadata": {},
   "outputs": [],
   "source": []
  },
  {
   "cell_type": "code",
   "execution_count": null,
   "metadata": {},
   "outputs": [],
   "source": []
  },
  {
   "cell_type": "code",
   "execution_count": null,
   "metadata": {},
   "outputs": [],
   "source": []
  },
  {
   "cell_type": "code",
   "execution_count": null,
   "metadata": {},
   "outputs": [],
   "source": []
  },
  {
   "cell_type": "code",
   "execution_count": null,
   "metadata": {},
   "outputs": [],
   "source": []
  },
  {
   "cell_type": "code",
   "execution_count": null,
   "metadata": {},
   "outputs": [],
   "source": []
  },
  {
   "cell_type": "code",
   "execution_count": null,
   "metadata": {},
   "outputs": [],
   "source": []
  },
  {
   "cell_type": "code",
   "execution_count": null,
   "metadata": {},
   "outputs": [],
   "source": []
  },
  {
   "cell_type": "code",
   "execution_count": null,
   "metadata": {},
   "outputs": [],
   "source": []
  },
  {
   "cell_type": "code",
   "execution_count": null,
   "metadata": {},
   "outputs": [],
   "source": []
  },
  {
   "cell_type": "code",
   "execution_count": null,
   "metadata": {},
   "outputs": [],
   "source": []
  },
  {
   "cell_type": "code",
   "execution_count": null,
   "metadata": {},
   "outputs": [],
   "source": []
  },
  {
   "cell_type": "code",
   "execution_count": null,
   "metadata": {},
   "outputs": [],
   "source": []
  },
  {
   "cell_type": "code",
   "execution_count": null,
   "metadata": {},
   "outputs": [],
   "source": []
  },
  {
   "cell_type": "code",
   "execution_count": null,
   "metadata": {},
   "outputs": [],
   "source": []
  },
  {
   "cell_type": "code",
   "execution_count": null,
   "metadata": {},
   "outputs": [],
   "source": []
  },
  {
   "cell_type": "code",
   "execution_count": null,
   "metadata": {},
   "outputs": [],
   "source": []
  },
  {
   "cell_type": "code",
   "execution_count": null,
   "metadata": {},
   "outputs": [],
   "source": []
  },
  {
   "cell_type": "code",
   "execution_count": null,
   "metadata": {},
   "outputs": [],
   "source": []
  },
  {
   "cell_type": "code",
   "execution_count": null,
   "metadata": {},
   "outputs": [],
   "source": []
  },
  {
   "cell_type": "code",
   "execution_count": null,
   "metadata": {},
   "outputs": [],
   "source": []
  },
  {
   "cell_type": "code",
   "execution_count": null,
   "metadata": {},
   "outputs": [],
   "source": []
  },
  {
   "cell_type": "code",
   "execution_count": null,
   "metadata": {},
   "outputs": [],
   "source": []
  },
  {
   "cell_type": "code",
   "execution_count": null,
   "metadata": {},
   "outputs": [],
   "source": []
  },
  {
   "cell_type": "code",
   "execution_count": null,
   "metadata": {},
   "outputs": [],
   "source": []
  },
  {
   "cell_type": "code",
   "execution_count": null,
   "metadata": {},
   "outputs": [],
   "source": []
  },
  {
   "cell_type": "code",
   "execution_count": null,
   "metadata": {},
   "outputs": [],
   "source": []
  },
  {
   "cell_type": "code",
   "execution_count": null,
   "metadata": {},
   "outputs": [],
   "source": []
  },
  {
   "cell_type": "code",
   "execution_count": null,
   "metadata": {},
   "outputs": [],
   "source": []
  },
  {
   "cell_type": "code",
   "execution_count": null,
   "metadata": {},
   "outputs": [],
   "source": []
  },
  {
   "cell_type": "code",
   "execution_count": null,
   "metadata": {},
   "outputs": [],
   "source": []
  },
  {
   "cell_type": "code",
   "execution_count": null,
   "metadata": {},
   "outputs": [],
   "source": []
  },
  {
   "cell_type": "code",
   "execution_count": null,
   "metadata": {},
   "outputs": [],
   "source": []
  },
  {
   "cell_type": "code",
   "execution_count": null,
   "metadata": {},
   "outputs": [],
   "source": []
  },
  {
   "cell_type": "code",
   "execution_count": null,
   "metadata": {},
   "outputs": [],
   "source": []
  },
  {
   "cell_type": "code",
   "execution_count": null,
   "metadata": {},
   "outputs": [],
   "source": [
    "1\n"
   ]
  },
  {
   "cell_type": "code",
   "execution_count": null,
   "metadata": {},
   "outputs": [],
   "source": []
  },
  {
   "cell_type": "code",
   "execution_count": null,
   "metadata": {},
   "outputs": [],
   "source": []
  },
  {
   "cell_type": "code",
   "execution_count": null,
   "metadata": {},
   "outputs": [],
   "source": []
  },
  {
   "cell_type": "code",
   "execution_count": null,
   "metadata": {},
   "outputs": [],
   "source": []
  },
  {
   "cell_type": "code",
   "execution_count": null,
   "metadata": {},
   "outputs": [],
   "source": []
  },
  {
   "cell_type": "code",
   "execution_count": null,
   "metadata": {},
   "outputs": [],
   "source": []
  },
  {
   "cell_type": "code",
   "execution_count": null,
   "metadata": {},
   "outputs": [],
   "source": []
  },
  {
   "cell_type": "code",
   "execution_count": 13,
   "metadata": {},
   "outputs": [
    {
     "name": "stdout",
     "output_type": "stream",
     "text": [
      "1\n"
     ]
    }
   ],
   "source": []
  },
  {
   "cell_type": "code",
   "execution_count": null,
   "metadata": {},
   "outputs": [],
   "source": []
  },
  {
   "cell_type": "code",
   "execution_count": null,
   "metadata": {},
   "outputs": [],
   "source": []
  },
  {
   "cell_type": "code",
   "execution_count": null,
   "metadata": {},
   "outputs": [],
   "source": []
  },
  {
   "cell_type": "code",
   "execution_count": null,
   "metadata": {},
   "outputs": [],
   "source": []
  },
  {
   "cell_type": "code",
   "execution_count": null,
   "metadata": {},
   "outputs": [],
   "source": []
  },
  {
   "cell_type": "code",
   "execution_count": null,
   "metadata": {},
   "outputs": [],
   "source": []
  },
  {
   "cell_type": "code",
   "execution_count": null,
   "metadata": {},
   "outputs": [],
   "source": []
  },
  {
   "cell_type": "code",
   "execution_count": null,
   "metadata": {},
   "outputs": [],
   "source": []
  },
  {
   "cell_type": "code",
   "execution_count": null,
   "metadata": {},
   "outputs": [],
   "source": [
    "    "
   ]
  },
  {
   "cell_type": "code",
   "execution_count": null,
   "metadata": {},
   "outputs": [],
   "source": []
  },
  {
   "cell_type": "code",
   "execution_count": 49,
   "metadata": {},
   "outputs": [
    {
     "name": "stdout",
     "output_type": "stream",
     "text": [
      "[1, 2, 3, 4, 5, 6, 7, 9, 10, 10, 10, 10]\n",
      "8\n",
      "7\n",
      "Dealers Card:\n",
      "8\n",
      "[1, 2, 3, 4, 5, 6, 7, 9, 10, 10, 10, 10]\n"
     ]
    }
   ],
   "source": [
    "card_deck = [1,2,3,4,5,6,7,8,9,10,10,10,10]\n",
    "def select_remove_card(card_decks): \n",
    "    card_deck = card_decks \n",
    "    card_deck_position = random.randint(0,len(card_deck))\n",
    "    card = card_deck[card_deck_position] \n",
    "    card_deck.pop(card_deck_position)\n",
    "    #print(card_deck)\n",
    "    #print(card)\n",
    "    #print(card_deck_position) \n",
    "    return card_deck, card \n",
    "    \n",
    "#dealers_tuple = select_remove_card(card_deck)\n",
    "#dealers_card = dealers_tuple[1]\n",
    "\n",
    "#card_deck,dealers_card = select_remove_card(card_deck)\n",
    "#print(\"Dealers Card:\")\n",
    "#print(dealers_card)\n",
    "#print(card_deck)\n",
    " \n"
   ]
  },
  {
   "cell_type": "code",
   "execution_count": null,
   "metadata": {},
   "outputs": [],
   "source": []
  }
 ],
 "metadata": {
  "kernelspec": {
   "display_name": "Python 3.11.0 64-bit",
   "language": "python",
   "name": "python3"
  },
  "language_info": {
   "codemirror_mode": {
    "name": "ipython",
    "version": 3
   },
   "file_extension": ".py",
   "mimetype": "text/x-python",
   "name": "python",
   "nbconvert_exporter": "python",
   "pygments_lexer": "ipython3",
   "version": "3.11.0"
  },
  "orig_nbformat": 4,
  "vscode": {
   "interpreter": {
    "hash": "949777d72b0d2535278d3dc13498b2535136f6dfe0678499012e853ee9abcab1"
   }
  }
 },
 "nbformat": 4,
 "nbformat_minor": 2
}
