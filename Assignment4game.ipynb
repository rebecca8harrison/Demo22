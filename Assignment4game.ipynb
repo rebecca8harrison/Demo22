{
 "cells": [
  {
   "cell_type": "code",
   "execution_count": 3,
   "metadata": {},
   "outputs": [
    {
     "name": "stdout",
     "output_type": "stream",
     "text": [
      "You have found a door 🚪, continue right to go through it\n",
      "🚧🚧🚧🚧🚧⬛⬛🚧🚧🚧🚧⬛⬛⬛⬛⬛⬛\n",
      "🚧⬜⬜⬜⬜⬜⬜🚧⬜⬜🚧⬛⬛⬛⬛⬛⬛\n",
      "🚧⬜⬜⬜⬜⬜⬜🚪⬜⬜🚧⬛⬛⬛⬛⬛⬛\n",
      "⬛⬛🚧🚧🚧🚧🚧🚧⬜⬜🚧⬛⬛⬜⬜🚧⬛\n",
      "🚧⬜⬜⬜⬜⬜⬜🚧⬜⬜🚧⬛⬛⬜⬜🚧🚧\n",
      "🚧⬜⬜⬜⬜⬜⬜🚪⬜⬜🚧⬛⬛⬜⬜🦊🚧\n",
      "🚧⬜⬜⬜⬜⬜⬜🚧⬜⬜🚧⬛⬛⬜⬜🚧🚧\n",
      "🚧🚧🚧🚪🚧⬛⬛🚧🚧🚧🚧⬛⬛⬜⬜🚧⬛\n",
      "⬛⬛⬜⬜⬜⬛⬛⬛⬛⬛⬛⬛⬛⬜⬜🚧⬛\n",
      "⬛⬛⬜⬜⬜🚧⬜⬜⬜⬜🚧⬛⬛⬜⬜🚧⬛\n",
      "⬛⬛⬜⬜⬜🚪⬜⬜⬜⬜🚧⬜⬜⬜⬜🚧⬛\n",
      "⬛⬛⬜⬜⬜🚧⬜⬜⬜⬜🚪⬜⬜⬜⬜🚧⬛\n",
      "⬛⬛⬛⬛⬛⬛⬛⬛🚧🚧🚧🚧🚧🚧🚧🚧⬛\n",
      "You found the exit, you win! 🍕\n"
     ]
    }
   ],
   "source": [
    "# Import packages\n",
    "import random\n",
    "from IPython.display import clear_output\n",
    "import os\n",
    "from os import system\n",
    "import time\n",
    "from time import sleep\n",
    "\n",
    "# Set key variables\n",
    "KEY_LABEL = {\"a\":\"left\",\"s\":\"down\",\"w\":\"up\",\"d\":\"right\",\"x\":\"exit\"}\n",
    "KEY_MOVE = {\"a\":(0, -1),\"s\":(1 ,0 ),\"w\":(-1, 0),\"d\":(0, 1)}\n",
    "\n",
    "# Set the world map\n",
    "# -1 is equal to a wall\n",
    "# 0 is equal to a door\n",
    "# 1 to 6 are the room numbers\n",
    "WORLD_MAP = [\n",
    "    [-1,-1,-1,-1,-1,-1,-1,-1,-1,-1,-1,-1,-1,-1,-1,-1,-1],\n",
    "    [-1, 1, 1, 1, 1, 1, 1,-1, 2, 2,-1, 6, 6, 6, 6,-1,-1],\n",
    "    [-1, 1, 1, 1, 1, 1, 1, 0, 2, 2,-1, 6, 6, 6, 6,-1,-1],\n",
    "    [-1,-1,-1,-1,-1,-1,-1,-1, 2, 2,-1, 6, 6, 6, 6,-1,-1],\n",
    "    [-1, 3, 3, 3, 3, 3, 3,-1, 2, 2,-1, 6, 6, 6, 6,-1,-1],\n",
    "    [-1, 3, 3, 3, 3, 3, 3, 0, 2, 2,-1, 6, 6, 6, 6, 0,-1],\n",
    "    [-1, 3, 3, 3, 3, 3, 3,-1, 2, 2,-1, 6, 6, 6, 6,-1,-1],\n",
    "    [-1,-1,-1, 0,-1,-1,-1,-1,-1,-1,-1, 6, 6, 6, 6,-1,-1],\n",
    "    [-1, 4, 4, 4, 4,-1, 5, 5, 5, 5,-1, 6, 6, 6, 6,-1,-1],\n",
    "    [-1, 4, 4, 4, 4,-1, 5, 5, 5, 5,-1, 6, 6, 6, 6,-1,-1],\n",
    "    [-1, 4, 4, 4, 4, 0, 5, 5, 5, 5,-1, 6, 6, 6, 6,-1,-1],\n",
    "    [-1, 4, 4, 4, 4,-1, 5, 5, 5, 5, 0, 6, 6, 6, 6,-1,-1],\n",
    "    [-1,-1,-1,-1,-1,-1,-1,-1,-1,-1,-1,-1,-1,-1,-1,-1,-1]\n",
    "]\n",
    "\n",
    "# Set start location and end location\n",
    "START_LOCATION = (1, 1) \n",
    "END_LOCATION = (5, 15)\n",
    "\n",
    "# Define functions\n",
    "\n",
    "# Function to move the player\n",
    "def direct_yourself():\n",
    "    while True:\n",
    "        key_stroke = input(\"Which direction would you like to move? chose from: a to go left, s to go back, w to go forward, or d to go right\")\n",
    "            \n",
    "        # Checks the guess is in the range specified\n",
    "        if key_stroke not in KEY_LABEL.keys():\n",
    "            print(\"Please enter either a to go left, s to go back, w to go forward, or d to go right\")\n",
    "        else:\n",
    "            return key_stroke\n",
    "\n",
    "# Function to check the move is valid, return the calculated location (new or old)\n",
    "def move_if_valid(location,direction,key_room):\n",
    "    move = KEY_MOVE[direction]\n",
    "    new_location = (\n",
    "        location[0] + move[0],\n",
    "        location[1] + move[1],\n",
    "    )\n",
    "    # Check that the location is within the map\n",
    "    assert 0 <= new_location[0] < len(WORLD_MAP)\n",
    "    assert 0 <= new_location[1] < len(WORLD_MAP[0])\n",
    "\n",
    "    if direction==\"x\":\n",
    "        return direction\n",
    "    else:    \n",
    "        cell = WORLD_MAP[new_location[0]][new_location[1]]\n",
    "        # Setting the move\n",
    "        if cell < 0: # checks if hitting a wall, and if so returns original location\n",
    "            print(\"You've hit a wall, you can't go\", KEY_LABEL[direction])\n",
    "            #print(\"your location is\",location,\"and the move was\",move)\n",
    "            return location\n",
    "        elif cell == 0: # Signals to player that a door exists\n",
    "            print(\"You have found a door 🚪, continue\",KEY_LABEL[direction],\"to go through it\")\n",
    "        else:\n",
    "            old_cell = WORLD_MAP[location[0]][location[1]]\n",
    "            if old_cell == 0:\n",
    "                print(\"You have entered room\", cell) \n",
    "                if key_room==cell:\n",
    "                    print(\"The key is in this room\")\n",
    "            else:   \n",
    "                print(\"You moved\",KEY_LABEL[direction],\"and are still in room\", cell)\n",
    "                #print(\"your location is\",new_location,\"and the move was\",move)\n",
    "                \n",
    "        return new_location\n",
    "\n",
    "# Function to randomly assign the key location to the map\n",
    "def valid_location():\n",
    "    while True:\n",
    "        location = (\n",
    "            random.randint(1,len(WORLD_MAP)-1),\n",
    "            random.randint(1,len(WORLD_MAP[0])-1)\n",
    "        )\n",
    "        cell = WORLD_MAP[location[0]][location[1]]\n",
    "        if cell>0:\n",
    "            return location\n",
    "\n",
    "# Prints the map\n",
    "def print_map_discovered(fox, key,key_found,discovery_map):\n",
    "    for i, row in enumerate(WORLD_MAP):\n",
    "        for j, cell in enumerate(row):\n",
    "            if not discovery_map[i][j]:\n",
    "                print(\"⬛\", end='')\n",
    "            elif cell == -1:\n",
    "                print(\"🚧\", end='') # The empty end='' argument stops the printing of a new line\n",
    "            elif (i,j) == fox:\n",
    "                print(\"🦊\", end='')\n",
    "            elif cell == 0:\n",
    "                print(\"🚪\", end='')\n",
    "            elif (i,j) == key and not key_found:\n",
    "                print(\"🗝️\", end='')\n",
    "            else:\n",
    "                print(\"⬜\", end='')\n",
    "        print() #Causes the row to end\n",
    "\n",
    "# Function to reveal which parts of the map have already been visited\n",
    "def reveal_map(discovery_map,location):\n",
    "    for i in range(location[0]-1,location[0]+2):\n",
    "        if i<0 or i>=len(discovery_map):\n",
    "            continue\n",
    "        for j in range(location[1]-1,location[1]+2):\n",
    "            if j<0 or j>=len(discovery_map[0]):\n",
    "                continue\n",
    "            discovery_map[i][j]=True\n",
    "    return discovery_map\n",
    "    \n",
    "\n",
    "\n",
    "def game_loop():\n",
    "    # START GAME\n",
    "    print(\"Welcome to the Adventure game.\")\n",
    "    print(\"The aim is to find your way through several rooms, locate the key, then make your way to the exit\")\n",
    "    print(\"You can direct your movements using the following keys:\")\n",
    "    print(\"w = up/forward\")\n",
    "    print(\"a = left\")\n",
    "    print(\"s = back/down\")\n",
    "    print(\"d = right\")\n",
    "    print(\"x to exit the game\")\n",
    "    \n",
    "    location = START_LOCATION\n",
    "    print(\"You are starting from room\", WORLD_MAP[location[0]][location[1]])\n",
    "\n",
    "    discovery_map = [[False] * len(WORLD_MAP[0]) for _ in WORLD_MAP]\n",
    "\n",
    "    key_found = False\n",
    "    key_location=valid_location()\n",
    "    key_room = WORLD_MAP[key_location[0]][key_location[1]]\n",
    "    #print(\"The key is at\", key_location,\"in room\",key_room)\n",
    "\n",
    "\n",
    "    discovery_map = reveal_map(discovery_map,location)\n",
    "    print_map_discovered(location,key_location,key_found,discovery_map)\n",
    "\n",
    "    # Game loop\n",
    "    while True:\n",
    "        # Move\n",
    "        direction = direct_yourself()\n",
    "        clear_output()\n",
    "        if direction == \"x\":\n",
    "            print(\"You have quit the game\")\n",
    "            return\n",
    "        if key_room==1:\n",
    "            print(\"The key is in this room\")\n",
    "        # Check location is valid, and if location is a door, or tells the room location\n",
    "        location = move_if_valid(location,direction,key_room)\n",
    "        discovery_map = reveal_map(discovery_map,location)\n",
    "        print_map_discovered(location,key_location,key_found,discovery_map)\n",
    "        if location==key_location:\n",
    "            key_found=True\n",
    "            print(\"You have found the key 🗝️ to the exit\")\n",
    "\n",
    "        if location==END_LOCATION:\n",
    "            if key_found:\n",
    "                print(\"You found the exit, you win! 🍕\")\n",
    "                break\n",
    "            else:\n",
    "                print(\"You have found the exit but you don't have the key, the key is in\",key_location)\n",
    "\n",
    "game_loop() "
   ]
  },
  {
   "cell_type": "code",
   "execution_count": null,
   "metadata": {},
   "outputs": [],
   "source": []
  },
  {
   "cell_type": "code",
   "execution_count": null,
   "metadata": {},
   "outputs": [],
   "source": []
  },
  {
   "cell_type": "code",
   "execution_count": null,
   "metadata": {},
   "outputs": [],
   "source": []
  },
  {
   "cell_type": "code",
   "execution_count": null,
   "metadata": {},
   "outputs": [],
   "source": []
  },
  {
   "cell_type": "code",
   "execution_count": null,
   "metadata": {},
   "outputs": [],
   "source": []
  },
  {
   "cell_type": "code",
   "execution_count": null,
   "metadata": {},
   "outputs": [],
   "source": []
  },
  {
   "cell_type": "code",
   "execution_count": null,
   "metadata": {},
   "outputs": [],
   "source": []
  },
  {
   "cell_type": "code",
   "execution_count": null,
   "metadata": {},
   "outputs": [],
   "source": []
  },
  {
   "cell_type": "code",
   "execution_count": null,
   "metadata": {},
   "outputs": [],
   "source": []
  },
  {
   "cell_type": "code",
   "execution_count": null,
   "metadata": {},
   "outputs": [],
   "source": []
  },
  {
   "cell_type": "code",
   "execution_count": null,
   "metadata": {},
   "outputs": [],
   "source": []
  },
  {
   "cell_type": "code",
   "execution_count": null,
   "metadata": {},
   "outputs": [],
   "source": []
  },
  {
   "cell_type": "code",
   "execution_count": null,
   "metadata": {},
   "outputs": [],
   "source": []
  },
  {
   "cell_type": "code",
   "execution_count": null,
   "metadata": {},
   "outputs": [],
   "source": []
  },
  {
   "cell_type": "code",
   "execution_count": null,
   "metadata": {},
   "outputs": [],
   "source": []
  },
  {
   "cell_type": "code",
   "execution_count": null,
   "metadata": {},
   "outputs": [],
   "source": []
  },
  {
   "cell_type": "code",
   "execution_count": null,
   "metadata": {},
   "outputs": [],
   "source": []
  },
  {
   "cell_type": "code",
   "execution_count": null,
   "metadata": {},
   "outputs": [],
   "source": []
  },
  {
   "cell_type": "code",
   "execution_count": 17,
   "metadata": {},
   "outputs": [
    {
     "name": "stdout",
     "output_type": "stream",
     "text": [
      "🚧🚧🚧🚧🚧🚧🚧🚧🚧🚧🚧🚧🚧🚧🚧🚧🚧\n",
      "🚧🗝️⬜⬜⬜⬜⬜🚧⬜⬜🚧⬜⬜⬜⬜🚧🚧\n",
      "🚧⬜⬜🦊⬜⬜⬜🚪⬜⬜🚧⬜⬜⬜⬜🚧🚧\n",
      "🚧🚧🚧🚧🚧🚧🚧🚧⬜⬜🚧⬜⬜⬜⬜🚧🚧\n",
      "🚧⬜⬜⬜⬜⬜⬜🚧⬜⬜🚧⬜⬜⬜⬜🚧🚧\n",
      "🚧⬜⬜⬜⬜⬜⬜🚪⬜⬜🚧⬜⬜⬜⬜🚪🚧\n",
      "🚧⬜⬜⬜⬜⬜⬜🚧⬜⬜🚧⬜⬜⬜⬜🚧🚧\n",
      "🚧🚧🚧🚪🚧🚧🚧🚧🚧🚧🚧⬜⬜⬜⬜🚧🚧\n",
      "🚧⬜⬜⬜⬜🚧⬜⬜⬜⬜🚧⬜⬜⬜⬜🚧🚧\n",
      "🚧⬜⬜⬜⬜🚧⬜⬜⬜⬜🚧⬜⬜⬜⬜🚧🚧\n",
      "🚧⬜⬜⬜⬜🚪⬜⬜⬜⬜🚧⬜⬜⬜⬜🚧🚧\n",
      "🚧⬜⬜⬜⬜🚧⬜⬜⬜⬜🚪⬜⬜⬜⬜🚧🚧\n",
      "🚧🚧🚧🚧🚧🚧🚧🚧🚧🚧🚧🚧🚧🚧🚧🚧🚧\n"
     ]
    }
   ],
   "source": [
    "# Function to print map as it gets discovered\n",
    "\n",
    "\n",
    "#⬛"
   ]
  },
  {
   "cell_type": "code",
   "execution_count": null,
   "metadata": {},
   "outputs": [],
   "source": []
  },
  {
   "cell_type": "code",
   "execution_count": null,
   "metadata": {},
   "outputs": [],
   "source": []
  },
  {
   "cell_type": "code",
   "execution_count": null,
   "metadata": {},
   "outputs": [],
   "source": []
  },
  {
   "cell_type": "code",
   "execution_count": null,
   "metadata": {},
   "outputs": [],
   "source": []
  },
  {
   "cell_type": "code",
   "execution_count": null,
   "metadata": {},
   "outputs": [],
   "source": []
  },
  {
   "cell_type": "code",
   "execution_count": null,
   "metadata": {},
   "outputs": [],
   "source": []
  },
  {
   "cell_type": "code",
   "execution_count": null,
   "metadata": {},
   "outputs": [],
   "source": []
  },
  {
   "cell_type": "code",
   "execution_count": null,
   "metadata": {},
   "outputs": [],
   "source": []
  },
  {
   "cell_type": "code",
   "execution_count": null,
   "metadata": {},
   "outputs": [],
   "source": []
  },
  {
   "cell_type": "code",
   "execution_count": null,
   "metadata": {},
   "outputs": [],
   "source": []
  },
  {
   "cell_type": "code",
   "execution_count": null,
   "metadata": {},
   "outputs": [],
   "source": []
  },
  {
   "cell_type": "code",
   "execution_count": null,
   "metadata": {},
   "outputs": [],
   "source": []
  },
  {
   "cell_type": "code",
   "execution_count": null,
   "metadata": {},
   "outputs": [],
   "source": []
  },
  {
   "cell_type": "code",
   "execution_count": 2,
   "metadata": {},
   "outputs": [
    {
     "name": "stdout",
     "output_type": "stream",
     "text": [
      "[['.', '.', '.', '.', '.', '.', '.', '.', '.', '.', '.', '.', '.', '.', '.', '.', '.'], ['.', '.', '.', '.', '.', '.', '.', '.', '.', '.', '.', '.', '.', '.', '.', '.', '.'], ['.', '.', '.', '.', '.', '.', '.', '.', '.', '.', '.', '.', '.', '.', '.', '.', '.'], ['.', '.', '.', '.', '.', '.', '.', '.', '.', '.', '.', '.', '.', '.', '.', '.', '.'], ['.', '.', '.', '.', '.', '.', '.', '.', '.', '.', '.', '.', '.', '.', '.', '.', '.'], ['.', '.', '.', '.', '.', '.', '.', '.', '.', '.', '.', '.', '.', '.', '.', '.', '.'], ['.', '.', '.', '.', '.', '.', '.', '.', '.', '.', '.', '.', '.', '.', '.', '.', '.'], ['.', '.', '.', '.', '.', '.', '.', '.', '.', '.', '.', '.', '.', '.', '.', '.', '.'], ['.', '.', '.', '.', '.', '.', '.', '.', '.', '.', '.', '.', '.', '.', '.', '.', '.'], ['.', '.', '.', '.', '.', '.', '.', '.', '.', '.', '.', '.', '.', '.', '.', '.', '.'], ['.', '.', '.', '.', '.', '.', '.', '.', '.', '.', '.', '.', '.', '.', '.', '.', '.'], ['.', '.', '.', '.', '.', '.', '.', '.', '.', '.', '.', '.', '.', '.', '.', '.', '.'], ['.', '.', '.', '.', '.', '.', '.', '.', '.', '.', '.', '.', '.', '.', '.', '.', '.']]\n"
     ]
    }
   ],
   "source": [
    "print(Print_map)"
   ]
  },
  {
   "cell_type": "code",
   "execution_count": null,
   "metadata": {},
   "outputs": [],
   "source": []
  },
  {
   "cell_type": "code",
   "execution_count": null,
   "metadata": {},
   "outputs": [],
   "source": [
    "\n",
    "# Starting the game\n",
    "game=1\n",
    "room=1\n",
    "door1_2x=2\n",
    "door1_2y=1\n",
    "door2_3x=3\n",
    "door2_3x=2\n",
    "#plt.axis([-1, 6, -1, 6])\n",
    "#plt.text(0,0,\"Start point\", fontsize=5)\n",
    "\n",
    "\n",
    "    print(\"Which direction would you like to go?\")\n",
    "\n",
    "    image = (\n",
    "\"...|--|--|...\"\n",
    "\"...|--|--|---\n",
    "    |  |  |\")\n",
    "            "
   ]
  },
  {
   "cell_type": "code",
   "execution_count": null,
   "metadata": {},
   "outputs": [],
   "source": [
    "  return location\n",
    "\n",
    "def set_room(location):\n",
    "    if (-3 < location[0] <= 4) and (-2 < location[1] <= 4):\n",
    "        return \" and you are in room 1\"   \n",
    "    elif (4 < location[0] <= 8) and (-4 < location[1] <= 4):\n",
    "        return \" and you are in room 2\" \n",
    "    elif (4 < location[0] <= 8) and (4 < location[1] <= 8):\n",
    "        return \" and you are in room 3\" \n",
    "    elif (4 < location[0] <= 8) and (-8 < location[1] <= -2):\n",
    "        return \" and you are in room 4\" \n",
    "    elif (8 < location[0] <= 12) and (4 < location[1] <= 8):\n",
    "        return \" and you are in room 5\" \n",
    "    elif (8 < location[0] <= 12) and (-4 < location[1] <= 4):\n",
    "        return \" and you are in room 6\" \n",
    "    else: \n",
    "        return \"You bashed down the wall, you lost the game\"\n",
    "def door(location):\n",
    "    if location == [4,2]: \n",
    "        return \"room 1 and 2\"\n",
    "    elif location == [6,4]: \n",
    "        return \"room 2 and 3\"\n",
    "    elif location == [8,6]: \n",
    "        return \"room 3 and 4\"\n",
    "    elif location == [10,4]: \n",
    "        return \"room 4 and 5\" \n",
    "    elif location == [6,-2]: \n",
    "        return \"room 5 and 6\"\n",
    "    else: return \"\"\n",
    "\n",
    "def set_walls_doors(location,door_location):\n",
    "    if location==[4,2] or location==[6,4] or location==[8,6] or location==[10,4] or location==[6,-2]:\n",
    "        print(\"You have found the door between\",door_location)\n",
    "        return 0\n",
    "    elif location[1]==-3 or location[1]==4 or location[1]==8 or location[1]==12 or location[0]==-8 or location[0]==-2 or location[0]==4 or location[0]==8:   \n",
    "        print(\"You have hit a wall, you need to go back in the direction you came\")\n",
    "        return 1\n",
    "    elif location==[12,2]:\n",
    "        \"Congratulations, you found the exit\"\n",
    "    else:\n",
    "        return 0\n",
    "\n",
    "\n",
    "# Setting the start location of the player\n",
    "location = [0,0]\n",
    "room = 1\n",
    "wall=0\n",
    "door_location=\"blank\"\n",
    "while room != \"You bashed down the wall, you lost the game\":\n",
    "    door_location=door(location)\n",
    "    location = direct_yourself(location,wall)\n",
    "    room = set_room(location)\n",
    "    print(\"You are in position\",location,room)\n",
    "    wall=set_walls_doors(location,door_location)\n"
   ]
  },
  {
   "cell_type": "code",
   "execution_count": null,
   "metadata": {},
   "outputs": [],
   "source": []
  },
  {
   "cell_type": "code",
   "execution_count": null,
   "metadata": {},
   "outputs": [],
   "source": []
  },
  {
   "cell_type": "code",
   "execution_count": null,
   "metadata": {},
   "outputs": [],
   "source": []
  },
  {
   "cell_type": "code",
   "execution_count": null,
   "metadata": {},
   "outputs": [],
   "source": []
  },
  {
   "cell_type": "code",
   "execution_count": null,
   "metadata": {},
   "outputs": [],
   "source": []
  },
  {
   "cell_type": "code",
   "execution_count": null,
   "metadata": {},
   "outputs": [],
   "source": []
  },
  {
   "cell_type": "code",
   "execution_count": null,
   "metadata": {},
   "outputs": [],
   "source": []
  },
  {
   "cell_type": "code",
   "execution_count": null,
   "metadata": {},
   "outputs": [],
   "source": []
  },
  {
   "cell_type": "code",
   "execution_count": null,
   "metadata": {},
   "outputs": [],
   "source": []
  },
  {
   "cell_type": "code",
   "execution_count": null,
   "metadata": {},
   "outputs": [],
   "source": []
  },
  {
   "cell_type": "code",
   "execution_count": null,
   "metadata": {},
   "outputs": [],
   "source": []
  },
  {
   "cell_type": "code",
   "execution_count": null,
   "metadata": {},
   "outputs": [],
   "source": []
  },
  {
   "cell_type": "code",
   "execution_count": null,
   "metadata": {},
   "outputs": [],
   "source": []
  },
  {
   "cell_type": "code",
   "execution_count": null,
   "metadata": {},
   "outputs": [],
   "source": []
  },
  {
   "cell_type": "code",
   "execution_count": null,
   "metadata": {},
   "outputs": [],
   "source": []
  },
  {
   "cell_type": "code",
   "execution_count": null,
   "metadata": {},
   "outputs": [],
   "source": []
  },
  {
   "cell_type": "code",
   "execution_count": null,
   "metadata": {},
   "outputs": [],
   "source": []
  },
  {
   "cell_type": "code",
   "execution_count": null,
   "metadata": {},
   "outputs": [],
   "source": []
  },
  {
   "cell_type": "code",
   "execution_count": null,
   "metadata": {},
   "outputs": [],
   "source": []
  },
  {
   "cell_type": "code",
   "execution_count": null,
   "metadata": {},
   "outputs": [],
   "source": []
  },
  {
   "cell_type": "code",
   "execution_count": null,
   "metadata": {},
   "outputs": [],
   "source": []
  },
  {
   "cell_type": "code",
   "execution_count": null,
   "metadata": {},
   "outputs": [],
   "source": []
  },
  {
   "cell_type": "code",
   "execution_count": null,
   "metadata": {},
   "outputs": [],
   "source": []
  },
  {
   "cell_type": "code",
   "execution_count": null,
   "metadata": {},
   "outputs": [],
   "source": []
  },
  {
   "cell_type": "code",
   "execution_count": null,
   "metadata": {},
   "outputs": [],
   "source": []
  },
  {
   "cell_type": "code",
   "execution_count": null,
   "metadata": {},
   "outputs": [],
   "source": []
  },
  {
   "cell_type": "code",
   "execution_count": null,
   "metadata": {},
   "outputs": [],
   "source": []
  },
  {
   "cell_type": "code",
   "execution_count": null,
   "metadata": {},
   "outputs": [],
   "source": []
  },
  {
   "cell_type": "code",
   "execution_count": null,
   "metadata": {},
   "outputs": [],
   "source": []
  },
  {
   "cell_type": "code",
   "execution_count": null,
   "metadata": {},
   "outputs": [],
   "source": []
  }
 ],
 "metadata": {
  "kernelspec": {
   "display_name": "Python 3.10.7 64-bit",
   "language": "python",
   "name": "python3"
  },
  "language_info": {
   "codemirror_mode": {
    "name": "ipython",
    "version": 3
   },
   "file_extension": ".py",
   "mimetype": "text/x-python",
   "name": "python",
   "nbconvert_exporter": "python",
   "pygments_lexer": "ipython3",
   "version": "3.10.7"
  },
  "orig_nbformat": 4,
  "vscode": {
   "interpreter": {
    "hash": "aee8b7b246df8f9039afb4144a1f6fd8d2ca17a180786b69acc140d282b71a49"
   }
  }
 },
 "nbformat": 4,
 "nbformat_minor": 2
}
